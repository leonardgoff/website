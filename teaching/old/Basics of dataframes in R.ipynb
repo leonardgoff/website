{
 "cells": [
  {
   "cell_type": "markdown",
   "metadata": {},
   "source": [
    "## Basics: variables, if statements, printing output\n",
    "***"
   ]
  },
  {
   "cell_type": "code",
   "execution_count": 15,
   "metadata": {},
   "outputs": [
    {
     "name": "stdout",
     "output_type": "stream",
     "text": [
      "[1] 5\n"
     ]
    }
   ],
   "source": [
    "x<-5\n",
    "print(x)"
   ]
  },
  {
   "cell_type": "code",
   "execution_count": 16,
   "metadata": {},
   "outputs": [
    {
     "name": "stdout",
     "output_type": "stream",
     "text": [
      "[1] \"The value of x is greater than or equal to 5\"\n"
     ]
    }
   ],
   "source": [
    "if(x<5){\n",
    "    print(\"The value of x is less than 5\")\n",
    "} else{\n",
    "    print(\"The value of x is greater than or equal to 5\")\n",
    "}"
   ]
  },
  {
   "cell_type": "markdown",
   "metadata": {},
   "source": [
    "## Data frames\n",
    "***\n",
    "### The basic useful way to manage data in R is with a so-called *data frame*. We can create one manually:"
   ]
  },
  {
   "cell_type": "code",
   "execution_count": 94,
   "metadata": {},
   "outputs": [
    {
     "data": {
      "text/html": [
       "<table>\n",
       "<thead><tr><th scope=col>variable1</th><th scope=col>variable2</th></tr></thead>\n",
       "<tbody>\n",
       "\t<tr><td>5</td><td>2</td></tr>\n",
       "\t<tr><td>7</td><td>4</td></tr>\n",
       "\t<tr><td>9</td><td>6</td></tr>\n",
       "</tbody>\n",
       "</table>\n"
      ],
      "text/latex": [
       "\\begin{tabular}{r|ll}\n",
       " variable1 & variable2\\\\\n",
       "\\hline\n",
       "\t 5 & 2\\\\\n",
       "\t 7 & 4\\\\\n",
       "\t 9 & 6\\\\\n",
       "\\end{tabular}\n"
      ],
      "text/markdown": [
       "\n",
       "| variable1 | variable2 |\n",
       "|---|---|\n",
       "| 5 | 2 |\n",
       "| 7 | 4 |\n",
       "| 9 | 6 |\n",
       "\n"
      ],
      "text/plain": [
       "  variable1 variable2\n",
       "1 5         2        \n",
       "2 7         4        \n",
       "3 9         6        "
      ]
     },
     "metadata": {},
     "output_type": "display_data"
    }
   ],
   "source": [
    "df<-data.frame(variable1 = c(5,7,9), variable2=c(2,4,6))\n",
    "df"
   ]
  },
  {
   "cell_type": "markdown",
   "metadata": {},
   "source": [
    "### It's easy to add functions of variables as new variables. For renaming and dropping variables, see the next lesson notebook."
   ]
  },
  {
   "cell_type": "code",
   "execution_count": 95,
   "metadata": {},
   "outputs": [
    {
     "data": {
      "text/html": [
       "<table>\n",
       "<thead><tr><th scope=col>variable1</th><th scope=col>variable2</th><th scope=col>variable2_squared</th></tr></thead>\n",
       "<tbody>\n",
       "\t<tr><td>5 </td><td>2 </td><td> 4</td></tr>\n",
       "\t<tr><td>7 </td><td>4 </td><td>16</td></tr>\n",
       "\t<tr><td>9 </td><td>6 </td><td>36</td></tr>\n",
       "</tbody>\n",
       "</table>\n"
      ],
      "text/latex": [
       "\\begin{tabular}{r|lll}\n",
       " variable1 & variable2 & variable2\\_squared\\\\\n",
       "\\hline\n",
       "\t 5  & 2  &  4\\\\\n",
       "\t 7  & 4  & 16\\\\\n",
       "\t 9  & 6  & 36\\\\\n",
       "\\end{tabular}\n"
      ],
      "text/markdown": [
       "\n",
       "| variable1 | variable2 | variable2_squared |\n",
       "|---|---|---|\n",
       "| 5  | 2  |  4 |\n",
       "| 7  | 4  | 16 |\n",
       "| 9  | 6  | 36 |\n",
       "\n"
      ],
      "text/plain": [
       "  variable1 variable2 variable2_squared\n",
       "1 5         2          4               \n",
       "2 7         4         16               \n",
       "3 9         6         36               "
      ]
     },
     "metadata": {},
     "output_type": "display_data"
    }
   ],
   "source": [
    "df$variable2_squared <- df$variable2^2\n",
    "df"
   ]
  },
  {
   "cell_type": "markdown",
   "metadata": {},
   "source": [
    "## To make things more interesting, let's loading in some real data\n",
    "***\n",
    "### This data gives the US average wage by industry and year, from the Quarterly Census of Employment and Wages"
   ]
  },
  {
   "cell_type": "code",
   "execution_count": 91,
   "metadata": {},
   "outputs": [],
   "source": [
    "projectpath<-\"C:/Users/Len/Dropbox/Teaching/Data TA/R tutorial/sample project/\"\n",
    "df <- read.csv(paste0(projectpath,\"raw data/qcew_wages_industrybyyear_naics.csv\"))"
   ]
  },
  {
   "cell_type": "markdown",
   "metadata": {},
   "source": [
    "## Exploring/working with a dataframe by \"*slicing*\" it, i.e. indexing it as a matrix\n",
    "***\n",
    "### We can look at the first 5 rows of the dataframe:"
   ]
  },
  {
   "cell_type": "code",
   "execution_count": 4,
   "metadata": {},
   "outputs": [
    {
     "data": {
      "text/html": [
       "<table>\n",
       "<thead><tr><th scope=col>year</th><th scope=col>naics</th><th scope=col>wage</th></tr></thead>\n",
       "<tbody>\n",
       "\t<tr><td>1990    </td><td>1111    </td><td>14667.21</td></tr>\n",
       "\t<tr><td>1990    </td><td>1112    </td><td>12264.32</td></tr>\n",
       "\t<tr><td>1990    </td><td>1113    </td><td>10557.79</td></tr>\n",
       "\t<tr><td>1990    </td><td>1114    </td><td>14888.62</td></tr>\n",
       "\t<tr><td>1990    </td><td>1119    </td><td>13482.87</td></tr>\n",
       "</tbody>\n",
       "</table>\n"
      ],
      "text/latex": [
       "\\begin{tabular}{r|lll}\n",
       " year & naics & wage\\\\\n",
       "\\hline\n",
       "\t 1990     & 1111     & 14667.21\\\\\n",
       "\t 1990     & 1112     & 12264.32\\\\\n",
       "\t 1990     & 1113     & 10557.79\\\\\n",
       "\t 1990     & 1114     & 14888.62\\\\\n",
       "\t 1990     & 1119     & 13482.87\\\\\n",
       "\\end{tabular}\n"
      ],
      "text/markdown": [
       "\n",
       "| year | naics | wage |\n",
       "|---|---|---|\n",
       "| 1990     | 1111     | 14667.21 |\n",
       "| 1990     | 1112     | 12264.32 |\n",
       "| 1990     | 1113     | 10557.79 |\n",
       "| 1990     | 1114     | 14888.62 |\n",
       "| 1990     | 1119     | 13482.87 |\n",
       "\n"
      ],
      "text/plain": [
       "  year naics wage    \n",
       "1 1990 1111  14667.21\n",
       "2 1990 1112  12264.32\n",
       "3 1990 1113  10557.79\n",
       "4 1990 1114  14888.62\n",
       "5 1990 1119  13482.87"
      ]
     },
     "metadata": {},
     "output_type": "display_data"
    }
   ],
   "source": [
    "df[1:5, ]"
   ]
  },
  {
   "cell_type": "code",
   "execution_count": 6,
   "metadata": {},
   "outputs": [
    {
     "name": "stdout",
     "output_type": "stream",
     "text": [
      "[1] 8008\n"
     ]
    }
   ],
   "source": [
    "# A \"comment\" in R can be made with the \"#\" symbol\n",
    "# Let's ask R to print how many records are in df:\n",
    "print(length(df[,1]))"
   ]
  },
  {
   "cell_type": "code",
   "execution_count": 10,
   "metadata": {},
   "outputs": [
    {
     "data": {
      "text/html": [
       "<ol class=list-inline>\n",
       "\t<li>14667.2116085861</li>\n",
       "\t<li>12264.3232139683</li>\n",
       "\t<li>10557.7870162356</li>\n",
       "\t<li>14888.6238310147</li>\n",
       "\t<li>13482.8713409426</li>\n",
       "</ol>\n"
      ],
      "text/latex": [
       "\\begin{enumerate*}\n",
       "\\item 14667.2116085861\n",
       "\\item 12264.3232139683\n",
       "\\item 10557.7870162356\n",
       "\\item 14888.6238310147\n",
       "\\item 13482.8713409426\n",
       "\\end{enumerate*}\n"
      ],
      "text/markdown": [
       "1. 14667.2116085861\n",
       "2. 12264.3232139683\n",
       "3. 10557.7870162356\n",
       "4. 14888.6238310147\n",
       "5. 13482.8713409426\n",
       "\n",
       "\n"
      ],
      "text/plain": [
       "[1] 14667.21 12264.32 10557.79 14888.62 13482.87"
      ]
     },
     "metadata": {},
     "output_type": "display_data"
    }
   ],
   "source": [
    "#First five values of wage only:\n",
    "df$wage[1:5]"
   ]
  },
  {
   "cell_type": "code",
   "execution_count": 28,
   "metadata": {},
   "outputs": [
    {
     "name": "stdout",
     "output_type": "stream",
     "text": [
      "[1] \"Mean industry wage: 41390.2396774684\"\n",
      "[1] \"Max industry wage: 226189.599662489\"\n"
     ]
    }
   ],
   "source": [
    "print(paste0(\"Mean industry wage: \", mean(df$wage)))\n",
    "print(paste0(\"Max industry wage: \", max(df$wage)))"
   ]
  },
  {
   "cell_type": "code",
   "execution_count": 40,
   "metadata": {},
   "outputs": [
    {
     "name": "stdout",
     "output_type": "stream",
     "text": [
      "[1] \"Mean industry wage: $41390.24\"\n",
      "[1] \"Mean industry wage: $41k\"\n"
     ]
    }
   ],
   "source": [
    "#What if I want to display these more pretty-like?\n",
    "print(paste0(\"Mean industry wage: $\", round(mean(df$wage),2)))\n",
    "print(paste0(\"Mean industry wage: $\", round(mean(df$wage),-3)/1000, \"k\"))\n"
   ]
  },
  {
   "attachments": {},
   "cell_type": "markdown",
   "metadata": {},
   "source": [
    "## Suppose we wanted to look up the wage for manufacturing in year 2000. The \"NAICS code\" for manufacturing is 1013. We can do this by slicing `df` with the logical vector `df$naics==1111 & df$year==1990`:"
   ]
  },
  {
   "cell_type": "code",
   "execution_count": 61,
   "metadata": {},
   "outputs": [
    {
     "data": {
      "text/html": [
       "<table>\n",
       "<thead><tr><th scope=col>year</th><th scope=col>naics</th><th scope=col>wage</th></tr></thead>\n",
       "<tbody>\n",
       "\t<tr><td>1990    </td><td>1111    </td><td>14667.21</td></tr>\n",
       "</tbody>\n",
       "</table>\n"
      ],
      "text/latex": [
       "\\begin{tabular}{r|lll}\n",
       " year & naics & wage\\\\\n",
       "\\hline\n",
       "\t 1990     & 1111     & 14667.21\\\\\n",
       "\\end{tabular}\n"
      ],
      "text/markdown": [
       "\n",
       "| year | naics | wage |\n",
       "|---|---|---|\n",
       "| 1990     | 1111     | 14667.21 |\n",
       "\n"
      ],
      "text/plain": [
       "  year naics wage    \n",
       "1 1990 1111  14667.21"
      ]
     },
     "metadata": {},
     "output_type": "display_data"
    }
   ],
   "source": [
    "df[df$naics==1111 & df$year==1990,]\n",
    "#Be careful, if you used \"&&\" here it would only apply the AND operation on the first row!"
   ]
  },
  {
   "cell_type": "markdown",
   "metadata": {},
   "source": [
    "## <span style=\"color:blue\">Exercise</span>: what is the average wage for Financial Activities in 2015?\n",
    "## Industry codes are listed <a href=\"https://data.bls.gov/cew/doc/titles/industry/industry_titles.htm\">here</a>"
   ]
  },
  {
   "cell_type": "markdown",
   "metadata": {},
   "source": [
    "## Suppose we wanted to plot average nominal wages for manufacturing over time:\n",
    "***"
   ]
  },
  {
   "cell_type": "code",
   "execution_count": 71,
   "metadata": {},
   "outputs": [
    {
     "data": {
      "text/html": [
       "<table>\n",
       "<thead><tr><th></th><th scope=col>year</th><th scope=col>naics</th><th scope=col>wage</th></tr></thead>\n",
       "<tbody>\n",
       "\t<tr><th scope=row>1</th><td>1990    </td><td>1111    </td><td>14667.21</td></tr>\n",
       "\t<tr><th scope=row>310</th><td>1991    </td><td>1111    </td><td>14755.24</td></tr>\n",
       "\t<tr><th scope=row>619</th><td>1992    </td><td>1111    </td><td>15901.33</td></tr>\n",
       "\t<tr><th scope=row>928</th><td>1993    </td><td>1111    </td><td>15981.44</td></tr>\n",
       "\t<tr><th scope=row>1237</th><td>1994    </td><td>1111    </td><td>16696.12</td></tr>\n",
       "\t<tr><th scope=row>1546</th><td>1995    </td><td>1111    </td><td>17576.98</td></tr>\n",
       "\t<tr><th scope=row>1855</th><td>1996    </td><td>1111    </td><td>18533.14</td></tr>\n",
       "\t<tr><th scope=row>2164</th><td>1997    </td><td>1111    </td><td>19740.99</td></tr>\n",
       "\t<tr><th scope=row>2473</th><td>1998    </td><td>1111    </td><td>20788.35</td></tr>\n",
       "\t<tr><th scope=row>2782</th><td>1999    </td><td>1111    </td><td>21592.59</td></tr>\n",
       "\t<tr><th scope=row>3091</th><td>2000    </td><td>1111    </td><td>22503.89</td></tr>\n",
       "\t<tr><th scope=row>3400</th><td>2001    </td><td>1111    </td><td>23387.38</td></tr>\n",
       "\t<tr><th scope=row>3710</th><td>2002    </td><td>1111    </td><td>23968.56</td></tr>\n",
       "\t<tr><th scope=row>4020</th><td>2003    </td><td>1111    </td><td>24308.09</td></tr>\n",
       "\t<tr><th scope=row>4330</th><td>2004    </td><td>1111    </td><td>25007.69</td></tr>\n",
       "\t<tr><th scope=row>4640</th><td>2005    </td><td>1111    </td><td>25893.73</td></tr>\n",
       "\t<tr><th scope=row>4950</th><td>2006    </td><td>1111    </td><td>27095.72</td></tr>\n",
       "\t<tr><th scope=row>5260</th><td>2007    </td><td>1111    </td><td>28132.76</td></tr>\n",
       "\t<tr><th scope=row>5566</th><td>2008    </td><td>1111    </td><td>30618.11</td></tr>\n",
       "\t<tr><th scope=row>5872</th><td>2009    </td><td>1111    </td><td>30849.10</td></tr>\n",
       "\t<tr><th scope=row>6178</th><td>2010    </td><td>1111    </td><td>31239.63</td></tr>\n",
       "\t<tr><th scope=row>6484</th><td>2011    </td><td>1111    </td><td>32405.93</td></tr>\n",
       "\t<tr><th scope=row>6789</th><td>2012    </td><td>1111    </td><td>34418.43</td></tr>\n",
       "\t<tr><th scope=row>7094</th><td>2013    </td><td>1111    </td><td>35401.76</td></tr>\n",
       "\t<tr><th scope=row>7399</th><td>2014    </td><td>1111    </td><td>36164.64</td></tr>\n",
       "\t<tr><th scope=row>7704</th><td>2015    </td><td>1111    </td><td>37007.54</td></tr>\n",
       "</tbody>\n",
       "</table>\n"
      ],
      "text/latex": [
       "\\begin{tabular}{r|lll}\n",
       "  & year & naics & wage\\\\\n",
       "\\hline\n",
       "\t1 & 1990     & 1111     & 14667.21\\\\\n",
       "\t310 & 1991     & 1111     & 14755.24\\\\\n",
       "\t619 & 1992     & 1111     & 15901.33\\\\\n",
       "\t928 & 1993     & 1111     & 15981.44\\\\\n",
       "\t1237 & 1994     & 1111     & 16696.12\\\\\n",
       "\t1546 & 1995     & 1111     & 17576.98\\\\\n",
       "\t1855 & 1996     & 1111     & 18533.14\\\\\n",
       "\t2164 & 1997     & 1111     & 19740.99\\\\\n",
       "\t2473 & 1998     & 1111     & 20788.35\\\\\n",
       "\t2782 & 1999     & 1111     & 21592.59\\\\\n",
       "\t3091 & 2000     & 1111     & 22503.89\\\\\n",
       "\t3400 & 2001     & 1111     & 23387.38\\\\\n",
       "\t3710 & 2002     & 1111     & 23968.56\\\\\n",
       "\t4020 & 2003     & 1111     & 24308.09\\\\\n",
       "\t4330 & 2004     & 1111     & 25007.69\\\\\n",
       "\t4640 & 2005     & 1111     & 25893.73\\\\\n",
       "\t4950 & 2006     & 1111     & 27095.72\\\\\n",
       "\t5260 & 2007     & 1111     & 28132.76\\\\\n",
       "\t5566 & 2008     & 1111     & 30618.11\\\\\n",
       "\t5872 & 2009     & 1111     & 30849.10\\\\\n",
       "\t6178 & 2010     & 1111     & 31239.63\\\\\n",
       "\t6484 & 2011     & 1111     & 32405.93\\\\\n",
       "\t6789 & 2012     & 1111     & 34418.43\\\\\n",
       "\t7094 & 2013     & 1111     & 35401.76\\\\\n",
       "\t7399 & 2014     & 1111     & 36164.64\\\\\n",
       "\t7704 & 2015     & 1111     & 37007.54\\\\\n",
       "\\end{tabular}\n"
      ],
      "text/markdown": [
       "\n",
       "| <!--/--> | year | naics | wage |\n",
       "|---|---|---|---|\n",
       "| 1 | 1990     | 1111     | 14667.21 |\n",
       "| 310 | 1991     | 1111     | 14755.24 |\n",
       "| 619 | 1992     | 1111     | 15901.33 |\n",
       "| 928 | 1993     | 1111     | 15981.44 |\n",
       "| 1237 | 1994     | 1111     | 16696.12 |\n",
       "| 1546 | 1995     | 1111     | 17576.98 |\n",
       "| 1855 | 1996     | 1111     | 18533.14 |\n",
       "| 2164 | 1997     | 1111     | 19740.99 |\n",
       "| 2473 | 1998     | 1111     | 20788.35 |\n",
       "| 2782 | 1999     | 1111     | 21592.59 |\n",
       "| 3091 | 2000     | 1111     | 22503.89 |\n",
       "| 3400 | 2001     | 1111     | 23387.38 |\n",
       "| 3710 | 2002     | 1111     | 23968.56 |\n",
       "| 4020 | 2003     | 1111     | 24308.09 |\n",
       "| 4330 | 2004     | 1111     | 25007.69 |\n",
       "| 4640 | 2005     | 1111     | 25893.73 |\n",
       "| 4950 | 2006     | 1111     | 27095.72 |\n",
       "| 5260 | 2007     | 1111     | 28132.76 |\n",
       "| 5566 | 2008     | 1111     | 30618.11 |\n",
       "| 5872 | 2009     | 1111     | 30849.10 |\n",
       "| 6178 | 2010     | 1111     | 31239.63 |\n",
       "| 6484 | 2011     | 1111     | 32405.93 |\n",
       "| 6789 | 2012     | 1111     | 34418.43 |\n",
       "| 7094 | 2013     | 1111     | 35401.76 |\n",
       "| 7399 | 2014     | 1111     | 36164.64 |\n",
       "| 7704 | 2015     | 1111     | 37007.54 |\n",
       "\n"
      ],
      "text/plain": [
       "     year naics wage    \n",
       "1    1990 1111  14667.21\n",
       "310  1991 1111  14755.24\n",
       "619  1992 1111  15901.33\n",
       "928  1993 1111  15981.44\n",
       "1237 1994 1111  16696.12\n",
       "1546 1995 1111  17576.98\n",
       "1855 1996 1111  18533.14\n",
       "2164 1997 1111  19740.99\n",
       "2473 1998 1111  20788.35\n",
       "2782 1999 1111  21592.59\n",
       "3091 2000 1111  22503.89\n",
       "3400 2001 1111  23387.38\n",
       "3710 2002 1111  23968.56\n",
       "4020 2003 1111  24308.09\n",
       "4330 2004 1111  25007.69\n",
       "4640 2005 1111  25893.73\n",
       "4950 2006 1111  27095.72\n",
       "5260 2007 1111  28132.76\n",
       "5566 2008 1111  30618.11\n",
       "5872 2009 1111  30849.10\n",
       "6178 2010 1111  31239.63\n",
       "6484 2011 1111  32405.93\n",
       "6789 2012 1111  34418.43\n",
       "7094 2013 1111  35401.76\n",
       "7399 2014 1111  36164.64\n",
       "7704 2015 1111  37007.54"
      ]
     },
     "metadata": {},
     "output_type": "display_data"
    }
   ],
   "source": [
    "#Step one: create a dataframe with average manufacturing wage, by year\n",
    "dfmanuf<-df[df$naics==1111,]\n",
    "dfmanuf"
   ]
  },
  {
   "cell_type": "markdown",
   "metadata": {},
   "source": [
    "## We'll use the `ggplot` plotting library for this, which must be installed. `ggplot` has a formula based syntax that takes some getting used to."
   ]
  },
  {
   "cell_type": "code",
   "execution_count": 83,
   "metadata": {},
   "outputs": [
    {
     "data": {
      "image/png": "[encoded data removed]",
      "text/plain": [
       "plot without title"
      ]
     },
     "metadata": {},
     "output_type": "display_data"
    }
   ],
   "source": [
    "#install.packages(\"ggplot2\")\n",
    "library(ggplot2)\n",
    "\n",
    "#ggplot titles by default show up on the left. I like them in the middle:\n",
    "theme_update(plot.title = element_text(hjust = 0.5))\n",
    "\n",
    "ggplot(data=dfmanuf, aes(x=year, y=wage, group=1)) +\n",
    "  geom_line()+\n",
    "  geom_point()+\n",
    "  labs(title=\"U.S. Manufacturing Wages Over Time\", x=\"Year\", y = \"Average nominal wage\")"
   ]
  },
  {
   "cell_type": "markdown",
   "metadata": {},
   "source": [
    "## We can also save this plot to a file (e.g. to put it in our paper). Remember the project folder!"
   ]
  },
  {
   "cell_type": "code",
   "execution_count": 92,
   "metadata": {},
   "outputs": [],
   "source": [
    "ggsave(filename = paste0(projectpath,'figures/wagesbyyear.png'), width = 10, height = 5, dpi=500)"
   ]
  }
 ],
 "metadata": {
  "kernelspec": {
   "display_name": "R",
   "language": "R",
   "name": "ir"
  },
  "language_info": {
   "codemirror_mode": "r",
   "file_extension": ".r",
   "mimetype": "text/x-r-source",
   "name": "R",
   "pygments_lexer": "r",
   "version": "3.6.1"
  }
 },
 "nbformat": 4,
 "nbformat_minor": 2
}
