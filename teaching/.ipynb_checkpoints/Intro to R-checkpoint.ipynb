{
 "cells": [
  {
   "cell_type": "markdown",
   "metadata": {},
   "source": [
    "# Intro to R Notebook\n",
    "\n",
    "## <u>Contents</u>\n",
    "\n",
    "## Part I\n",
    "1. [Variables, if statements, functions, printing output](#basics)\n",
    "2. [Dataframes](#dataframes)\n",
    "3. [Exercise](#ex1)\n",
    "4. [An example of plotting](#plotting)\n",
    "5. [Logging output](#logging)\n",
    "\n",
    "## Part II\n",
    "1. [Regression](#regression)\n",
    "    1. [Robust standard errors](#robust)\n",
    "2. [Merging data](#merging)\n",
    "3. [Other data manipulation tasks](#datamanip)\n",
    "4. [Creating a regression table](#output)\n",
    "5. [Project](#project)\n",
    "***"
   ]
  },
  {
   "cell_type": "markdown",
   "metadata": {},
   "source": [
    " "
   ]
  },
  {
   "cell_type": "markdown",
   "metadata": {},
   "source": [
    "# <u>Part I</u>"
   ]
  },
  {
   "cell_type": "markdown",
   "metadata": {},
   "source": [
    "# Variables, if statements, functions, printing output <a name=\"basics\"></a>\n",
    "***"
   ]
  },
  {
   "cell_type": "code",
   "execution_count": 5,
   "metadata": {},
   "outputs": [
    {
     "name": "stdout",
     "output_type": "stream",
     "text": [
      "[1] 3\n"
     ]
    }
   ],
   "source": [
    "x<-3\n",
    "print(x)"
   ]
  },
  {
   "cell_type": "code",
   "execution_count": 6,
   "metadata": {},
   "outputs": [
    {
     "name": "stdout",
     "output_type": "stream",
     "text": [
      "[1] \"The value of x is less than 5\"\n"
     ]
    }
   ],
   "source": [
    "if(x<5){\n",
    "    print(\"The value of x is less than 5\")\n",
    "} else{\n",
    "    print(\"The value of x is greater than or equal to 5\")\n",
    "}"
   ]
  },
  {
   "cell_type": "code",
   "execution_count": 14,
   "metadata": {},
   "outputs": [
    {
     "name": "stdout",
     "output_type": "stream",
     "text": [
      "[1] \"42 plus five is equal to: 57\"\n"
     ]
    }
   ],
   "source": [
    "add5<-function(x){\n",
    "    if(is.numeric(x)){\n",
    "        theanswer<-x+5\n",
    "        return(theanswer)\n",
    "    }\n",
    "    else{\n",
    "        print(\"Argument x is not a number\")\n",
    "        return(0)\n",
    "    }\n",
    "}\n",
    "print(paste0(\"42 plus five is equal to: \", add5(52)))"
   ]
  },
  {
   "cell_type": "code",
   "execution_count": 15,
   "metadata": {},
   "outputs": [
    {
     "name": "stdout",
     "output_type": "stream",
     "text": [
      "[1] \"Argument x is not a number\"\n",
      "[1] 0\n"
     ]
    }
   ],
   "source": [
    "print(add5(\"sdafgdsfg\"))"
   ]
  },
  {
   "cell_type": "code",
   "execution_count": 16,
   "metadata": {},
   "outputs": [
    {
     "name": "stdout",
     "output_type": "stream",
     "text": [
      "[1] 55\n"
     ]
    }
   ],
   "source": [
    "running_sum<-0\n",
    "for (i in 1:10){\n",
    "  running_sum = running_sum+i\n",
    "}\n",
    "print(running_sum)"
   ]
  },
  {
   "cell_type": "code",
   "execution_count": 17,
   "metadata": {},
   "outputs": [
    {
     "data": {
      "text/html": [
       "<ol class=list-inline>\n",
       "\t<li>1</li>\n",
       "\t<li>2</li>\n",
       "\t<li>3</li>\n",
       "\t<li>4</li>\n",
       "\t<li>5</li>\n",
       "\t<li>6</li>\n",
       "\t<li>7</li>\n",
       "\t<li>8</li>\n",
       "\t<li>9</li>\n",
       "\t<li>10</li>\n",
       "</ol>\n"
      ],
      "text/latex": [
       "\\begin{enumerate*}\n",
       "\\item 1\n",
       "\\item 2\n",
       "\\item 3\n",
       "\\item 4\n",
       "\\item 5\n",
       "\\item 6\n",
       "\\item 7\n",
       "\\item 8\n",
       "\\item 9\n",
       "\\item 10\n",
       "\\end{enumerate*}\n"
      ],
      "text/markdown": [
       "1. 1\n",
       "2. 2\n",
       "3. 3\n",
       "4. 4\n",
       "5. 5\n",
       "6. 6\n",
       "7. 7\n",
       "8. 8\n",
       "9. 9\n",
       "10. 10\n",
       "\n",
       "\n"
      ],
      "text/plain": [
       " [1]  1  2  3  4  5  6  7  8  9 10"
      ]
     },
     "metadata": {},
     "output_type": "display_data"
    }
   ],
   "source": [
    "1:10"
   ]
  },
  {
   "cell_type": "markdown",
   "metadata": {},
   "source": [
    "# Data frames <a name=\"dataframes\"></a>\n",
    "***\n",
    "### The basic useful way to manage data in R is with a so-called *data frame*. We can create one manually:"
   ]
  },
  {
   "cell_type": "code",
   "execution_count": 94,
   "metadata": {},
   "outputs": [
    {
     "data": {
      "text/html": [
       "<table>\n",
       "<thead><tr><th scope=col>variable1</th><th scope=col>variable2</th></tr></thead>\n",
       "<tbody>\n",
       "\t<tr><td>5</td><td>2</td></tr>\n",
       "\t<tr><td>7</td><td>4</td></tr>\n",
       "\t<tr><td>9</td><td>6</td></tr>\n",
       "</tbody>\n",
       "</table>\n"
      ],
      "text/latex": [
       "\\begin{tabular}{r|ll}\n",
       " variable1 & variable2\\\\\n",
       "\\hline\n",
       "\t 5 & 2\\\\\n",
       "\t 7 & 4\\\\\n",
       "\t 9 & 6\\\\\n",
       "\\end{tabular}\n"
      ],
      "text/markdown": [
       "\n",
       "| variable1 | variable2 |\n",
       "|---|---|\n",
       "| 5 | 2 |\n",
       "| 7 | 4 |\n",
       "| 9 | 6 |\n",
       "\n"
      ],
      "text/plain": [
       "  variable1 variable2\n",
       "1 5         2        \n",
       "2 7         4        \n",
       "3 9         6        "
      ]
     },
     "metadata": {},
     "output_type": "display_data"
    }
   ],
   "source": [
    "df<-data.frame(variable1 = c(5,7,9), variable2=c(2,4,6))\n",
    "df"
   ]
  },
  {
   "cell_type": "markdown",
   "metadata": {},
   "source": [
    "### It's easy to add functions of variables as new variables. For renaming and dropping variables, see the next lesson notebook."
   ]
  },
  {
   "cell_type": "code",
   "execution_count": 95,
   "metadata": {},
   "outputs": [
    {
     "data": {
      "text/html": [
       "<table>\n",
       "<thead><tr><th scope=col>variable1</th><th scope=col>variable2</th><th scope=col>variable2_squared</th></tr></thead>\n",
       "<tbody>\n",
       "\t<tr><td>5 </td><td>2 </td><td> 4</td></tr>\n",
       "\t<tr><td>7 </td><td>4 </td><td>16</td></tr>\n",
       "\t<tr><td>9 </td><td>6 </td><td>36</td></tr>\n",
       "</tbody>\n",
       "</table>\n"
      ],
      "text/latex": [
       "\\begin{tabular}{r|lll}\n",
       " variable1 & variable2 & variable2\\_squared\\\\\n",
       "\\hline\n",
       "\t 5  & 2  &  4\\\\\n",
       "\t 7  & 4  & 16\\\\\n",
       "\t 9  & 6  & 36\\\\\n",
       "\\end{tabular}\n"
      ],
      "text/markdown": [
       "\n",
       "| variable1 | variable2 | variable2_squared |\n",
       "|---|---|---|\n",
       "| 5  | 2  |  4 |\n",
       "| 7  | 4  | 16 |\n",
       "| 9  | 6  | 36 |\n",
       "\n"
      ],
      "text/plain": [
       "  variable1 variable2 variable2_squared\n",
       "1 5         2          4               \n",
       "2 7         4         16               \n",
       "3 9         6         36               "
      ]
     },
     "metadata": {},
     "output_type": "display_data"
    }
   ],
   "source": [
    "df$variable2_squared <- df$variable2^2\n",
    "df"
   ]
  },
  {
   "cell_type": "markdown",
   "metadata": {},
   "source": [
    "## To make things more interesting, let's loading in some real data.\n",
    "***\n",
    "### Download \"qcew_wages_industrybyyear_naics.csv\" from <a href=\"https://raw.githubusercontent.com/leonardgoff/QCEW-Historical-Wages/master/qcew_wages_industrybyyear_naics.csv\" download>here</a> and save it to your project `raw data/` folder.\n",
    "### This data gives the US average wage by industry and year, from the Quarterly Census of Employment and Wages"
   ]
  },
  {
   "cell_type": "code",
   "execution_count": 2,
   "metadata": {},
   "outputs": [],
   "source": [
    "projectpath<-\"C:/Users/Len/Dropbox/Teaching/Data TA/R tutorial/sample project/\"\n",
    "df <- read.csv(paste0(projectpath,\"raw data/qcew_wages_industrybyyear_naics.csv\"))"
   ]
  },
  {
   "cell_type": "markdown",
   "metadata": {},
   "source": [
    "## Exploring/working with a dataframe by \"*slicing*\" it, i.e. indexing it as a matrix\n",
    "***\n",
    "### We can look at the first 5 rows of the dataframe:"
   ]
  },
  {
   "cell_type": "code",
   "execution_count": 29,
   "metadata": {},
   "outputs": [
    {
     "data": {
      "text/html": [
       "<table>\n",
       "<thead><tr><th scope=col>naics</th><th scope=col>wage</th></tr></thead>\n",
       "<tbody>\n",
       "\t<tr><td>1111    </td><td>14667.21</td></tr>\n",
       "\t<tr><td>1112    </td><td>12264.32</td></tr>\n",
       "\t<tr><td>1113    </td><td>10557.79</td></tr>\n",
       "\t<tr><td>1114    </td><td>14888.62</td></tr>\n",
       "\t<tr><td>1119    </td><td>13482.87</td></tr>\n",
       "</tbody>\n",
       "</table>\n"
      ],
      "text/latex": [
       "\\begin{tabular}{r|ll}\n",
       " naics & wage\\\\\n",
       "\\hline\n",
       "\t 1111     & 14667.21\\\\\n",
       "\t 1112     & 12264.32\\\\\n",
       "\t 1113     & 10557.79\\\\\n",
       "\t 1114     & 14888.62\\\\\n",
       "\t 1119     & 13482.87\\\\\n",
       "\\end{tabular}\n"
      ],
      "text/markdown": [
       "\n",
       "| naics | wage |\n",
       "|---|---|\n",
       "| 1111     | 14667.21 |\n",
       "| 1112     | 12264.32 |\n",
       "| 1113     | 10557.79 |\n",
       "| 1114     | 14888.62 |\n",
       "| 1119     | 13482.87 |\n",
       "\n"
      ],
      "text/plain": [
       "  naics wage    \n",
       "1 1111  14667.21\n",
       "2 1112  12264.32\n",
       "3 1113  10557.79\n",
       "4 1114  14888.62\n",
       "5 1119  13482.87"
      ]
     },
     "metadata": {},
     "output_type": "display_data"
    }
   ],
   "source": [
    "df[1:5,c('naics','wage')]"
   ]
  },
  {
   "cell_type": "code",
   "execution_count": 6,
   "metadata": {},
   "outputs": [
    {
     "name": "stdout",
     "output_type": "stream",
     "text": [
      "[1] 8008\n"
     ]
    }
   ],
   "source": [
    "# A \"comment\" in R can be made with the \"#\" symbol\n",
    "# Let's ask R to print how many records are in df:\n",
    "print(length(df[,1]))"
   ]
  },
  {
   "cell_type": "code",
   "execution_count": 10,
   "metadata": {},
   "outputs": [
    {
     "data": {
      "text/html": [
       "<ol class=list-inline>\n",
       "\t<li>14667.2116085861</li>\n",
       "\t<li>12264.3232139683</li>\n",
       "\t<li>10557.7870162356</li>\n",
       "\t<li>14888.6238310147</li>\n",
       "\t<li>13482.8713409426</li>\n",
       "</ol>\n"
      ],
      "text/latex": [
       "\\begin{enumerate*}\n",
       "\\item 14667.2116085861\n",
       "\\item 12264.3232139683\n",
       "\\item 10557.7870162356\n",
       "\\item 14888.6238310147\n",
       "\\item 13482.8713409426\n",
       "\\end{enumerate*}\n"
      ],
      "text/markdown": [
       "1. 14667.2116085861\n",
       "2. 12264.3232139683\n",
       "3. 10557.7870162356\n",
       "4. 14888.6238310147\n",
       "5. 13482.8713409426\n",
       "\n",
       "\n"
      ],
      "text/plain": [
       "[1] 14667.21 12264.32 10557.79 14888.62 13482.87"
      ]
     },
     "metadata": {},
     "output_type": "display_data"
    }
   ],
   "source": [
    "#First five values of wage only:\n",
    "df$wage[1:5]"
   ]
  },
  {
   "cell_type": "code",
   "execution_count": 28,
   "metadata": {},
   "outputs": [
    {
     "name": "stdout",
     "output_type": "stream",
     "text": [
      "[1] \"Mean industry wage: 41390.2396774684\"\n",
      "[1] \"Max industry wage: 226189.599662489\"\n"
     ]
    }
   ],
   "source": [
    "print(paste0(\"Mean industry wage: \", mean(df$wage)))\n",
    "print(paste0(\"Max industry wage: \", max(df$wage)))"
   ]
  },
  {
   "cell_type": "code",
   "execution_count": 40,
   "metadata": {},
   "outputs": [
    {
     "name": "stdout",
     "output_type": "stream",
     "text": [
      "[1] \"Mean industry wage: $41390.24\"\n",
      "[1] \"Mean industry wage: $41k\"\n"
     ]
    }
   ],
   "source": [
    "#What if I want to display these more pretty-like?\n",
    "print(paste0(\"Mean industry wage: $\", round(mean(df$wage),2)))\n",
    "print(paste0(\"Mean industry wage: $\", round(mean(df$wage),-3)/1000, \"k\"))\n"
   ]
  },
  {
   "cell_type": "markdown",
   "metadata": {},
   "source": [
    "## Suppose we wanted to look up the wage for the coal mining industry in year 2000. The 4-digit \"NAICS code\" for this industry is 2121. We can do this by slicing `df` with the logical vector `df$naics==2121 & df$year==1990`:"
   ]
  },
  {
   "cell_type": "code",
   "execution_count": 14,
   "metadata": {},
   "outputs": [
    {
     "data": {
      "text/html": [
       "<table>\n",
       "<thead><tr><th></th><th scope=col>year</th><th scope=col>naics</th><th scope=col>wage</th></tr></thead>\n",
       "<tbody>\n",
       "\t<tr><th scope=row>21</th><td>1990    </td><td>2121    </td><td>39767.71</td></tr>\n",
       "</tbody>\n",
       "</table>\n"
      ],
      "text/latex": [
       "\\begin{tabular}{r|lll}\n",
       "  & year & naics & wage\\\\\n",
       "\\hline\n",
       "\t21 & 1990     & 2121     & 39767.71\\\\\n",
       "\\end{tabular}\n"
      ],
      "text/markdown": [
       "\n",
       "| <!--/--> | year | naics | wage |\n",
       "|---|---|---|---|\n",
       "| 21 | 1990     | 2121     | 39767.71 |\n",
       "\n"
      ],
      "text/plain": [
       "   year naics wage    \n",
       "21 1990 2121  39767.71"
      ]
     },
     "metadata": {},
     "output_type": "display_data"
    }
   ],
   "source": [
    "df[df$naics==2121 & df$year==1990,]\n",
    "#Be careful, if you used \"&&\" here it would only apply the AND operation on the first row!"
   ]
  },
  {
   "cell_type": "markdown",
   "metadata": {},
   "source": [
    "# <span style=\"color:blue\">Exercise</span> <a name=\"ex1\"></a>\n",
    "***\n",
    "## What is the average wage for workers in the Logging industry in 2015?\n",
    "## Industry codes are listed <a href=\"https://data.bls.gov/cew/doc/titles/industry/industry_titles.htm\">here</a>\n",
    "## Note, this dataset has records for the 4-digit version of industry codes. The longer codes (e.g. 5 digits) are more specific and the data is not dissagregated to that level in this dataset\n",
    "\n",
    "### Answer: $41,748.04"
   ]
  },
  {
   "cell_type": "markdown",
   "metadata": {},
   "source": [
    "# An example of plotting <a name=\"plotting\"></a>\n",
    "***\n",
    "\n",
    "## Suppose we wanted to plot average nominal wages for the coal industry over time:"
   ]
  },
  {
   "cell_type": "code",
   "execution_count": 15,
   "metadata": {},
   "outputs": [
    {
     "data": {
      "text/html": [
       "<table>\n",
       "<thead><tr><th></th><th scope=col>year</th><th scope=col>naics</th><th scope=col>wage</th></tr></thead>\n",
       "<tbody>\n",
       "\t<tr><th scope=row>21</th><td>1990    </td><td>2121    </td><td>39767.71</td></tr>\n",
       "\t<tr><th scope=row>330</th><td>1991    </td><td>2121    </td><td>40668.72</td></tr>\n",
       "\t<tr><th scope=row>639</th><td>1992    </td><td>2121    </td><td>42295.11</td></tr>\n",
       "\t<tr><th scope=row>948</th><td>1993    </td><td>2121    </td><td>41716.56</td></tr>\n",
       "\t<tr><th scope=row>1257</th><td>1994    </td><td>2121    </td><td>44389.39</td></tr>\n",
       "\t<tr><th scope=row>1566</th><td>1995    </td><td>2121    </td><td>45734.90</td></tr>\n",
       "\t<tr><th scope=row>1875</th><td>1996    </td><td>2121    </td><td>48031.03</td></tr>\n",
       "\t<tr><th scope=row>2184</th><td>1997    </td><td>2121    </td><td>49145.38</td></tr>\n",
       "\t<tr><th scope=row>2493</th><td>1998    </td><td>2121    </td><td>50243.96</td></tr>\n",
       "\t<tr><th scope=row>2802</th><td>1999    </td><td>2121    </td><td>50638.49</td></tr>\n",
       "\t<tr><th scope=row>3111</th><td>2000    </td><td>2121    </td><td>52560.33</td></tr>\n",
       "\t<tr><th scope=row>3420</th><td>2001    </td><td>2121    </td><td>54335.28</td></tr>\n",
       "\t<tr><th scope=row>3730</th><td>2002    </td><td>2121    </td><td>54639.26</td></tr>\n",
       "\t<tr><th scope=row>4040</th><td>2003    </td><td>2121    </td><td>56627.55</td></tr>\n",
       "\t<tr><th scope=row>4350</th><td>2004    </td><td>2121    </td><td>59325.00</td></tr>\n",
       "\t<tr><th scope=row>4660</th><td>2005    </td><td>2121    </td><td>64058.03</td></tr>\n",
       "\t<tr><th scope=row>4970</th><td>2006    </td><td>2121    </td><td>66638.51</td></tr>\n",
       "\t<tr><th scope=row>5280</th><td>2007    </td><td>2121    </td><td>68861.89</td></tr>\n",
       "\t<tr><th scope=row>5586</th><td>2008    </td><td>2121    </td><td>72240.77</td></tr>\n",
       "\t<tr><th scope=row>5892</th><td>2009    </td><td>2121    </td><td>73500.63</td></tr>\n",
       "\t<tr><th scope=row>6198</th><td>2010    </td><td>2121    </td><td>77466.31</td></tr>\n",
       "\t<tr><th scope=row>6504</th><td>2011    </td><td>2121    </td><td>81257.74</td></tr>\n",
       "\t<tr><th scope=row>6809</th><td>2012    </td><td>2121    </td><td>80450.46</td></tr>\n",
       "\t<tr><th scope=row>7114</th><td>2013    </td><td>2121    </td><td>82067.37</td></tr>\n",
       "\t<tr><th scope=row>7419</th><td>2014    </td><td>2121    </td><td>83749.85</td></tr>\n",
       "\t<tr><th scope=row>7724</th><td>2015    </td><td>2121    </td><td>83594.60</td></tr>\n",
       "</tbody>\n",
       "</table>\n"
      ],
      "text/latex": [
       "\\begin{tabular}{r|lll}\n",
       "  & year & naics & wage\\\\\n",
       "\\hline\n",
       "\t21 & 1990     & 2121     & 39767.71\\\\\n",
       "\t330 & 1991     & 2121     & 40668.72\\\\\n",
       "\t639 & 1992     & 2121     & 42295.11\\\\\n",
       "\t948 & 1993     & 2121     & 41716.56\\\\\n",
       "\t1257 & 1994     & 2121     & 44389.39\\\\\n",
       "\t1566 & 1995     & 2121     & 45734.90\\\\\n",
       "\t1875 & 1996     & 2121     & 48031.03\\\\\n",
       "\t2184 & 1997     & 2121     & 49145.38\\\\\n",
       "\t2493 & 1998     & 2121     & 50243.96\\\\\n",
       "\t2802 & 1999     & 2121     & 50638.49\\\\\n",
       "\t3111 & 2000     & 2121     & 52560.33\\\\\n",
       "\t3420 & 2001     & 2121     & 54335.28\\\\\n",
       "\t3730 & 2002     & 2121     & 54639.26\\\\\n",
       "\t4040 & 2003     & 2121     & 56627.55\\\\\n",
       "\t4350 & 2004     & 2121     & 59325.00\\\\\n",
       "\t4660 & 2005     & 2121     & 64058.03\\\\\n",
       "\t4970 & 2006     & 2121     & 66638.51\\\\\n",
       "\t5280 & 2007     & 2121     & 68861.89\\\\\n",
       "\t5586 & 2008     & 2121     & 72240.77\\\\\n",
       "\t5892 & 2009     & 2121     & 73500.63\\\\\n",
       "\t6198 & 2010     & 2121     & 77466.31\\\\\n",
       "\t6504 & 2011     & 2121     & 81257.74\\\\\n",
       "\t6809 & 2012     & 2121     & 80450.46\\\\\n",
       "\t7114 & 2013     & 2121     & 82067.37\\\\\n",
       "\t7419 & 2014     & 2121     & 83749.85\\\\\n",
       "\t7724 & 2015     & 2121     & 83594.60\\\\\n",
       "\\end{tabular}\n"
      ],
      "text/markdown": [
       "\n",
       "| <!--/--> | year | naics | wage |\n",
       "|---|---|---|---|\n",
       "| 21 | 1990     | 2121     | 39767.71 |\n",
       "| 330 | 1991     | 2121     | 40668.72 |\n",
       "| 639 | 1992     | 2121     | 42295.11 |\n",
       "| 948 | 1993     | 2121     | 41716.56 |\n",
       "| 1257 | 1994     | 2121     | 44389.39 |\n",
       "| 1566 | 1995     | 2121     | 45734.90 |\n",
       "| 1875 | 1996     | 2121     | 48031.03 |\n",
       "| 2184 | 1997     | 2121     | 49145.38 |\n",
       "| 2493 | 1998     | 2121     | 50243.96 |\n",
       "| 2802 | 1999     | 2121     | 50638.49 |\n",
       "| 3111 | 2000     | 2121     | 52560.33 |\n",
       "| 3420 | 2001     | 2121     | 54335.28 |\n",
       "| 3730 | 2002     | 2121     | 54639.26 |\n",
       "| 4040 | 2003     | 2121     | 56627.55 |\n",
       "| 4350 | 2004     | 2121     | 59325.00 |\n",
       "| 4660 | 2005     | 2121     | 64058.03 |\n",
       "| 4970 | 2006     | 2121     | 66638.51 |\n",
       "| 5280 | 2007     | 2121     | 68861.89 |\n",
       "| 5586 | 2008     | 2121     | 72240.77 |\n",
       "| 5892 | 2009     | 2121     | 73500.63 |\n",
       "| 6198 | 2010     | 2121     | 77466.31 |\n",
       "| 6504 | 2011     | 2121     | 81257.74 |\n",
       "| 6809 | 2012     | 2121     | 80450.46 |\n",
       "| 7114 | 2013     | 2121     | 82067.37 |\n",
       "| 7419 | 2014     | 2121     | 83749.85 |\n",
       "| 7724 | 2015     | 2121     | 83594.60 |\n",
       "\n"
      ],
      "text/plain": [
       "     year naics wage    \n",
       "21   1990 2121  39767.71\n",
       "330  1991 2121  40668.72\n",
       "639  1992 2121  42295.11\n",
       "948  1993 2121  41716.56\n",
       "1257 1994 2121  44389.39\n",
       "1566 1995 2121  45734.90\n",
       "1875 1996 2121  48031.03\n",
       "2184 1997 2121  49145.38\n",
       "2493 1998 2121  50243.96\n",
       "2802 1999 2121  50638.49\n",
       "3111 2000 2121  52560.33\n",
       "3420 2001 2121  54335.28\n",
       "3730 2002 2121  54639.26\n",
       "4040 2003 2121  56627.55\n",
       "4350 2004 2121  59325.00\n",
       "4660 2005 2121  64058.03\n",
       "4970 2006 2121  66638.51\n",
       "5280 2007 2121  68861.89\n",
       "5586 2008 2121  72240.77\n",
       "5892 2009 2121  73500.63\n",
       "6198 2010 2121  77466.31\n",
       "6504 2011 2121  81257.74\n",
       "6809 2012 2121  80450.46\n",
       "7114 2013 2121  82067.37\n",
       "7419 2014 2121  83749.85\n",
       "7724 2015 2121  83594.60"
      ]
     },
     "metadata": {},
     "output_type": "display_data"
    }
   ],
   "source": [
    "#Step one: create a dataframe with average manufacturing wage, by year\n",
    "dfcoal<-df[df$naics==2121,]\n",
    "dfcoal"
   ]
  },
  {
   "cell_type": "markdown",
   "metadata": {},
   "source": [
    "## We'll use the `ggplot` plotting library for this, which must be installed. `ggplot` has a formula based syntax that takes some getting used to."
   ]
  },
  {
   "cell_type": "code",
   "execution_count": 16,
   "metadata": {},
   "outputs": [
    {
     "data": {
      "image/png": "[encoded data removed]",
      "text/plain": [
       "plot without title"
      ]
     },
     "metadata": {},
     "output_type": "display_data"
    }
   ],
   "source": [
    "#install.packages(\"ggplot2\")\n",
    "library(ggplot2)\n",
    "\n",
    "#ggplot titles by default show up on the left. I like them in the middle:\n",
    "theme_update(plot.title = element_text(hjust = 0.5))\n",
    "\n",
    "ggplot(data=dfcoal, aes(x=year, y=wage, group=1)) +\n",
    "  geom_line()+\n",
    "  geom_point()+\n",
    "  labs(title=\"U.S. Coal Industry Wages Over Time\", x=\"Year\", y = \"Average nominal wage\")"
   ]
  },
  {
   "cell_type": "markdown",
   "metadata": {},
   "source": [
    "## Follow up question (\"extra credit\"): have these nominal wages kept up with inflation? You could find out by integrating data from <a href=\"https://fred.stlouisfed.org/tags/series?t=inflation\">here</a> ."
   ]
  },
  {
   "cell_type": "markdown",
   "metadata": {},
   "source": [
    "## We can also save this plot to a file (e.g. to put it in our paper). Remember the project folder!"
   ]
  },
  {
   "cell_type": "code",
   "execution_count": 17,
   "metadata": {},
   "outputs": [],
   "source": [
    "ggsave(filename = paste0(projectpath,'figures/coal_wagesbyyear.png'), width = 10, height = 5, dpi=500)"
   ]
  },
  {
   "cell_type": "markdown",
   "metadata": {},
   "source": [
    "# Logging output <a name=\"logging\"></a>\n",
    "***\n",
    "\n",
    "## If you have experience with Stata, you might be used to creating a \"log file\" from your code. We can do a similar thing in R, using the `sink` command:"
   ]
  },
  {
   "cell_type": "code",
   "execution_count": 9,
   "metadata": {},
   "outputs": [],
   "source": [
    "projectpath<-\"C:/Users/Len/Dropbox/Teaching/Data TA/R tutorial/sample project/\"\n",
    "\n",
    "#split=TRUE allows output to also go to the screen (otherwise you would only see it in the log file)\n",
    "#append=FALSE tells R to overwrite \"mylog.txt\" rather than appending to itself, if it already exists\n",
    "sink(file=paste0(projectpath,'/log files/mylog.txt'),split=TRUE, append=FALSE)"
   ]
  },
  {
   "cell_type": "markdown",
   "metadata": {},
   "source": [
    "## This doesn't work in a Jupyter notebook, so copy this code into R Studio\n",
    "\n",
    "### Note: it's good practice to close the connection to this file at the end of your code (this makes more sense when working in RStudio in which your have a \".R\" script file). The following code will close any open file connections:"
   ]
  },
  {
   "cell_type": "code",
   "execution_count": 11,
   "metadata": {},
   "outputs": [],
   "source": [
    "sink.reset <- function(){\n",
    "  for(i in seq_len(sink.number())){\n",
    "    sink(NULL)\n",
    "  }\n",
    "}"
   ]
  },
  {
   "cell_type": "markdown",
   "metadata": {},
   "source": [
    "\n",
    "\n"
   ]
  },
  {
   "cell_type": "markdown",
   "metadata": {},
   "source": [
    " "
   ]
  },
  {
   "cell_type": "markdown",
   "metadata": {},
   "source": [
    " "
   ]
  },
  {
   "cell_type": "markdown",
   "metadata": {},
   "source": [
    " "
   ]
  },
  {
   "cell_type": "markdown",
   "metadata": {},
   "source": [
    "# <u> Part II</u>"
   ]
  },
  {
   "cell_type": "markdown",
   "metadata": {},
   "source": [
    "# Regression analysis <a name=\"regression\"></a>\n",
    "***\n",
    "## Let's move on to regression analysis. For this, download <a href=\"http://www.columbia.edu/~ltg2111/teaching/wages_bycounty_yr2000.csv\">this data set</a> to your `raw data/` folder. Or, you can read it right of the web (and save a local copy):"
   ]
  },
  {
   "cell_type": "code",
   "execution_count": 15,
   "metadata": {},
   "outputs": [],
   "source": [
    "df<- read.csv(\"http://www.columbia.edu/~ltg2111/teaching/wages_bycounty_yr2000.csv\")\n",
    "write.csv(df, paste0(projectpath,\"raw data/wages_bycounty_yr2000.csv\"))"
   ]
  },
  {
   "cell_type": "markdown",
   "metadata": {},
   "source": [
    "## This data set contains the average wage and employment count by US county (`fips') in the year 2000:"
   ]
  },
  {
   "cell_type": "code",
   "execution_count": 9,
   "metadata": {},
   "outputs": [
    {
     "data": {
      "text/html": [
       "<table>\n",
       "<thead><tr><th scope=col>X</th><th scope=col>fips</th><th scope=col>wage</th><th scope=col>employment</th></tr></thead>\n",
       "<tbody>\n",
       "\t<tr><td>1       </td><td>1001    </td><td>24803.96</td><td> 8844   </td></tr>\n",
       "\t<tr><td>2       </td><td>1003    </td><td>21926.45</td><td>40999   </td></tr>\n",
       "\t<tr><td>3       </td><td>1005    </td><td>22849.07</td><td> 9890   </td></tr>\n",
       "\t<tr><td>4       </td><td>1007    </td><td>20039.41</td><td> 2686   </td></tr>\n",
       "\t<tr><td>5       </td><td>1009    </td><td>21934.78</td><td> 7372   </td></tr>\n",
       "</tbody>\n",
       "</table>\n"
      ],
      "text/latex": [
       "\\begin{tabular}{r|llll}\n",
       " X & fips & wage & employment\\\\\n",
       "\\hline\n",
       "\t 1        & 1001     & 24803.96 &  8844   \\\\\n",
       "\t 2        & 1003     & 21926.45 & 40999   \\\\\n",
       "\t 3        & 1005     & 22849.07 &  9890   \\\\\n",
       "\t 4        & 1007     & 20039.41 &  2686   \\\\\n",
       "\t 5        & 1009     & 21934.78 &  7372   \\\\\n",
       "\\end{tabular}\n"
      ],
      "text/markdown": [
       "\n",
       "| X | fips | wage | employment |\n",
       "|---|---|---|---|\n",
       "| 1        | 1001     | 24803.96 |  8844    |\n",
       "| 2        | 1003     | 21926.45 | 40999    |\n",
       "| 3        | 1005     | 22849.07 |  9890    |\n",
       "| 4        | 1007     | 20039.41 |  2686    |\n",
       "| 5        | 1009     | 21934.78 |  7372    |\n",
       "\n"
      ],
      "text/plain": [
       "  X fips wage     employment\n",
       "1 1 1001 24803.96  8844     \n",
       "2 2 1003 21926.45 40999     \n",
       "3 3 1005 22849.07  9890     \n",
       "4 4 1007 20039.41  2686     \n",
       "5 5 1009 21934.78  7372     "
      ]
     },
     "metadata": {},
     "output_type": "display_data"
    }
   ],
   "source": [
    "df <- read.csv(paste0(projectpath,\"raw data/wages_bycounty_yr2000.csv\"))\n",
    "df[1:5,]"
   ]
  },
  {
   "cell_type": "markdown",
   "metadata": {},
   "source": [
    "## Suppose we want to run a regression of wages on employment in this data. If we just wanted to visualize the regression line, we could let `ggplot` do it all automatically:"
   ]
  },
  {
   "cell_type": "code",
   "execution_count": 33,
   "metadata": {},
   "outputs": [
    {
     "data": {
      "image/png": "[encoded data removed]",
      "text/plain": [
       "plot without title"
      ]
     },
     "metadata": {},
     "output_type": "display_data"
    }
   ],
   "source": [
    "#Scatterplot of wage vs employment with regression line\n",
    "\n",
    "library(ggplot2)\n",
    "ggplot(data = df, aes(x = wage, y = employment)) + \n",
    "  geom_point(color='cyan') +\n",
    "  geom_smooth(method = \"lm\", se = FALSE)"
   ]
  },
  {
   "cell_type": "markdown",
   "metadata": {},
   "source": [
    "### Note: the above relationship does not look particularly linear overall. We might want to add employment squared as a regresssor as well, or use so-called *non-parametric* regression techniques that let the curve take an arbitrary shape.\n",
    "\n",
    "### By comparing the linear regression line to the so-called loess local smoother, we can see that the relationship is roughly linear for counties with average wage between 20-30k, where the bulk of the data is."
   ]
  },
  {
   "cell_type": "code",
   "execution_count": 51,
   "metadata": {},
   "outputs": [
    {
     "data": {
      "image/png": "[encoded data removed]",
      "text/plain": [
       "plot without title"
      ]
     },
     "metadata": {},
     "output_type": "display_data"
    }
   ],
   "source": [
    "ggplot(data = df, aes(x = wage, y = employment)) +\n",
    "  xlim(20000, 30000) + ylim(0,10^5) +\n",
    "  geom_point(color='cyan') +\n",
    "  geom_smooth(method = \"lm\", se = FALSE) +\n",
    "  geom_smooth(method = \"loess\", color=\"green\")"
   ]
  },
  {
   "cell_type": "markdown",
   "metadata": {},
   "source": [
    "## Now let's perform the linear regression using the \"linear model\" or `lm` command to see the estimated coefficients:"
   ]
  },
  {
   "cell_type": "code",
   "execution_count": 52,
   "metadata": {
    "scrolled": true
   },
   "outputs": [
    {
     "data": {
      "text/plain": [
       "\n",
       "Call:\n",
       "lm(formula = wage ~ employment, data = df)\n",
       "\n",
       "Coefficients:\n",
       "(Intercept)   employment  \n",
       "  2.345e+04    2.311e-02  \n"
      ]
     },
     "metadata": {},
     "output_type": "display_data"
    }
   ],
   "source": [
    "lm(wage~employment,data=df)"
   ]
  },
  {
   "cell_type": "code",
   "execution_count": 53,
   "metadata": {},
   "outputs": [
    {
     "data": {
      "text/plain": [
       "\n",
       "Call:\n",
       "lm(formula = wage ~ employment, data = df)\n",
       "\n",
       "Residuals:\n",
       "   Min     1Q Median     3Q    Max \n",
       "-66231  -3382   -681   2471  47744 \n",
       "\n",
       "Coefficients:\n",
       "             Estimate Std. Error t value Pr(>|t|)    \n",
       "(Intercept) 2.345e+04  1.041e+02  225.33   <2e-16 ***\n",
       "employment  2.311e-02  8.014e-04   28.84   <2e-16 ***\n",
       "---\n",
       "Signif. codes:  0 '***' 0.001 '**' 0.01 '*' 0.05 '.' 0.1 ' ' 1\n",
       "\n",
       "Residual standard error: 5701 on 3214 degrees of freedom\n",
       "Multiple R-squared:  0.2056,\tAdjusted R-squared:  0.2053 \n",
       "F-statistic: 831.7 on 1 and 3214 DF,  p-value: < 2.2e-16\n"
      ]
     },
     "metadata": {},
     "output_type": "display_data"
    }
   ],
   "source": [
    "#It's usually useful to save the estimated model as an object:\n",
    "model1<-lm(wage~employment,data=df)\n",
    "summary(model1)"
   ]
  },
  {
   "cell_type": "markdown",
   "metadata": {},
   "source": [
    "## Important! The standard errors that `lm` computes by default assume homoskedasticity, which is not reasonable in most social science contexts. Based on the above scatterplot, would it be reasonable to assume homoskedastic errors for this regression? Doesn't look like it.\n",
    "\n",
    "## To get heteroskedasticity-robust standard errors, you can use the `sandwich` library: <a name=\"robust\"></a>"
   ]
  },
  {
   "cell_type": "code",
   "execution_count": 54,
   "metadata": {},
   "outputs": [
    {
     "data": {
      "text/html": [
       "<dl class=dl-horizontal>\n",
       "\t<dt>(Intercept)</dt>\n",
       "\t\t<dd>171.42093890755</dd>\n",
       "\t<dt>employment</dt>\n",
       "\t\t<dd>0.00506838094830457</dd>\n",
       "</dl>\n"
      ],
      "text/latex": [
       "\\begin{description*}\n",
       "\\item[(Intercept)] 171.42093890755\n",
       "\\item[employment] 0.00506838094830457\n",
       "\\end{description*}\n"
      ],
      "text/markdown": [
       "(Intercept)\n",
       ":   171.42093890755employment\n",
       ":   0.00506838094830457\n",
       "\n"
      ],
      "text/plain": [
       " (Intercept)   employment \n",
       "1.714209e+02 5.068381e-03 "
      ]
     },
     "metadata": {},
     "output_type": "display_data"
    }
   ],
   "source": [
    "#install.packages(\"sandwich\")\n",
    "library(sandwich)\n",
    "cov <- vcovHC(model1, type = \"HC\")\n",
    "model1.robustses <- sqrt(diag(cov))\n",
    "model1.robustses"
   ]
  },
  {
   "cell_type": "code",
   "execution_count": 55,
   "metadata": {
    "scrolled": true
   },
   "outputs": [
    {
     "data": {
      "text/html": [
       "<dl class=dl-horizontal>\n",
       "\t<dt>(Intercept)</dt>\n",
       "\t\t<dd>23452.3821454205</dd>\n",
       "\t<dt>employment</dt>\n",
       "\t\t<dd>0.0231118203981946</dd>\n",
       "</dl>\n"
      ],
      "text/latex": [
       "\\begin{description*}\n",
       "\\item[(Intercept)] 23452.3821454205\n",
       "\\item[employment] 0.0231118203981946\n",
       "\\end{description*}\n"
      ],
      "text/markdown": [
       "(Intercept)\n",
       ":   23452.3821454205employment\n",
       ":   0.0231118203981946\n",
       "\n"
      ],
      "text/plain": [
       " (Intercept)   employment \n",
       "2.345238e+04 2.311182e-02 "
      ]
     },
     "metadata": {},
     "output_type": "display_data"
    }
   ],
   "source": [
    "model1$coefficients"
   ]
  },
  {
   "cell_type": "code",
   "execution_count": 56,
   "metadata": {},
   "outputs": [
    {
     "data": {
      "text/plain": [
       "\n",
       "Call:\n",
       "lm(formula = wage ~ employment + 0, data = df)\n",
       "\n",
       "Coefficients:\n",
       "employment  \n",
       "   0.06989  \n"
      ]
     },
     "metadata": {},
     "output_type": "display_data"
    }
   ],
   "source": [
    "#If we wanted to supress the constant:\n",
    "lm(wage~employment+0,data=df)"
   ]
  },
  {
   "cell_type": "code",
   "execution_count": 57,
   "metadata": {},
   "outputs": [
    {
     "data": {
      "image/png": "[encoded data removed]",
      "text/plain": [
       "Plot with title \"Histogram of model1$residuals\""
      ]
     },
     "metadata": {},
     "output_type": "display_data"
    }
   ],
   "source": [
    "#Suppose we wanted to inspect the residuals:\n",
    "hist(model1$residuals, breaks=50,xlim=c(-25000,25000))"
   ]
  },
  {
   "cell_type": "markdown",
   "metadata": {},
   "source": [
    "# Merging Data <a name=\"merging\"></a>\n",
    "***\n",
    "## Now we've found another data source that includes unemployment by county in 2016. How can we combine this with our existing dataset, to perform a multiple linear regression?\n",
    "\n",
    "## This data is available <a href=\"https://raw.githubusercontent.com/plotly/datasets/master/fips-unemp-16.csv\">here</a>. Download it and save to your `raw data/` folder."
   ]
  },
  {
   "cell_type": "code",
   "execution_count": 60,
   "metadata": {},
   "outputs": [],
   "source": [
    "temp<- read.csv(\"https://raw.githubusercontent.com/plotly/datasets/master/fips-unemp-16.csv\")\n",
    "write.csv(temp, paste0(projectpath,\"raw data/fips-unemp-16.csv\"))"
   ]
  },
  {
   "cell_type": "code",
   "execution_count": 16,
   "metadata": {},
   "outputs": [],
   "source": [
    "df2<-read.csv(paste0(projectpath,\"raw data/fips-unemp-16.csv\"))"
   ]
  },
  {
   "cell_type": "markdown",
   "metadata": {},
   "source": [
    "## We can perform the merge using the `merge` command:"
   ]
  },
  {
   "cell_type": "code",
   "execution_count": 17,
   "metadata": {},
   "outputs": [
    {
     "data": {
      "text/html": [
       "<table>\n",
       "<thead><tr><th scope=col>fips</th><th scope=col>X.x</th><th scope=col>wage</th><th scope=col>employment</th><th scope=col>X.y</th><th scope=col>unemp</th></tr></thead>\n",
       "<tbody>\n",
       "\t<tr><td>1001    </td><td>1       </td><td>24803.96</td><td> 8844   </td><td>1       </td><td>5.3     </td></tr>\n",
       "\t<tr><td>1003    </td><td>2       </td><td>21926.45</td><td>40999   </td><td>2       </td><td>5.4     </td></tr>\n",
       "\t<tr><td>1005    </td><td>3       </td><td>22849.07</td><td> 9890   </td><td>3       </td><td>8.6     </td></tr>\n",
       "\t<tr><td>1007    </td><td>4       </td><td>20039.41</td><td> 2686   </td><td>4       </td><td>6.6     </td></tr>\n",
       "\t<tr><td>1009    </td><td>5       </td><td>21934.78</td><td> 7372   </td><td>5       </td><td>5.5     </td></tr>\n",
       "</tbody>\n",
       "</table>\n"
      ],
      "text/latex": [
       "\\begin{tabular}{r|llllll}\n",
       " fips & X.x & wage & employment & X.y & unemp\\\\\n",
       "\\hline\n",
       "\t 1001     & 1        & 24803.96 &  8844    & 1        & 5.3     \\\\\n",
       "\t 1003     & 2        & 21926.45 & 40999    & 2        & 5.4     \\\\\n",
       "\t 1005     & 3        & 22849.07 &  9890    & 3        & 8.6     \\\\\n",
       "\t 1007     & 4        & 20039.41 &  2686    & 4        & 6.6     \\\\\n",
       "\t 1009     & 5        & 21934.78 &  7372    & 5        & 5.5     \\\\\n",
       "\\end{tabular}\n"
      ],
      "text/markdown": [
       "\n",
       "| fips | X.x | wage | employment | X.y | unemp |\n",
       "|---|---|---|---|---|---|\n",
       "| 1001     | 1        | 24803.96 |  8844    | 1        | 5.3      |\n",
       "| 1003     | 2        | 21926.45 | 40999    | 2        | 5.4      |\n",
       "| 1005     | 3        | 22849.07 |  9890    | 3        | 8.6      |\n",
       "| 1007     | 4        | 20039.41 |  2686    | 4        | 6.6      |\n",
       "| 1009     | 5        | 21934.78 |  7372    | 5        | 5.5      |\n",
       "\n"
      ],
      "text/plain": [
       "  fips X.x wage     employment X.y unemp\n",
       "1 1001 1   24803.96  8844      1   5.3  \n",
       "2 1003 2   21926.45 40999      2   5.4  \n",
       "3 1005 3   22849.07  9890      3   8.6  \n",
       "4 1007 4   20039.41  2686      4   6.6  \n",
       "5 1009 5   21934.78  7372      5   5.5  "
      ]
     },
     "metadata": {},
     "output_type": "display_data"
    }
   ],
   "source": [
    "merged_data <- merge(df, df2, by=\"fips\", all.x = TRUE, all.y=FALSE)\n",
    "merged_data[1:5,]"
   ]
  },
  {
   "cell_type": "markdown",
   "metadata": {},
   "source": [
    "### Note that `by` here can be a list of variables to merge on combinations of, e.g. `by=c(var1, var2)`.\n",
    "\n",
    "### The options `all.x = TRUE, all.y=FALSE` makes sure to keep all of our original county observations, even if we can't find an unemployment number for them. Counties that show up only in the unemployment dataset are ignored.\n",
    "\n",
    "### We can see that 9 counties were unmatched, because they have NA's for `unemp`:"
   ]
  },
  {
   "cell_type": "code",
   "execution_count": 61,
   "metadata": {},
   "outputs": [
    {
     "data": {
      "text/plain": [
       "      fips            X.x              wage         employment     \n",
       " Min.   : 1001   Min.   :   1.0   Min.   : 8053   Min.   :     19  \n",
       " 1st Qu.:19039   1st Qu.: 804.8   1st Qu.:20264   1st Qu.:   2265  \n",
       " Median :30028   Median :1608.5   Median :23167   Median :   6308  \n",
       " Mean   :31464   Mean   :1608.5   Mean   :24230   Mean   :  33644  \n",
       " 3rd Qu.:46114   3rd Qu.:2412.2   3rd Qu.:26846   3rd Qu.:  18226  \n",
       " Max.   :78030   Max.   :3216.0   Max.   :79544   Max.   :3548191  \n",
       "                                                                   \n",
       "      X.y             unemp       \n",
       " Min.   :   1.0   Min.   : 1.700  \n",
       " 1st Qu.: 809.5   1st Qu.: 4.000  \n",
       " Median :1611.0   Median : 5.000  \n",
       " Mean   :1612.3   Mean   : 5.456  \n",
       " 3rd Qu.:2415.5   3rd Qu.: 6.300  \n",
       " Max.   :3219.0   Max.   :23.500  \n",
       " NA's   :9        NA's   :9       "
      ]
     },
     "metadata": {},
     "output_type": "display_data"
    },
    {
     "data": {
      "text/html": [
       "<table>\n",
       "<thead><tr><th></th><th scope=col>fips</th><th scope=col>X.x</th><th scope=col>wage</th><th scope=col>employment</th><th scope=col>X.y</th><th scope=col>unemp</th></tr></thead>\n",
       "<tbody>\n",
       "\t<tr><th scope=row>86</th><td> 2201   </td><td>  86    </td><td>27511.05</td><td> 1165   </td><td>NA      </td><td>NA      </td></tr>\n",
       "\t<tr><th scope=row>88</th><td> 2232   </td><td>  88    </td><td>28550.83</td><td> 1068   </td><td>NA      </td><td>NA      </td></tr>\n",
       "\t<tr><th scope=row>91</th><td> 2270   </td><td>  91    </td><td>16724.99</td><td>  878   </td><td>NA      </td><td>NA      </td></tr>\n",
       "\t<tr><th scope=row>92</th><td> 2280   </td><td>  92    </td><td>25470.78</td><td> 1736   </td><td>NA      </td><td>NA      </td></tr>\n",
       "\t<tr><th scope=row>2412</th><td>46113   </td><td>2412    </td><td>22689.80</td><td> 2244   </td><td>NA      </td><td>NA      </td></tr>\n",
       "\t<tr><th scope=row>2909</th><td>51515   </td><td>2909    </td><td>25314.70</td><td> 3970   </td><td>NA      </td><td>NA      </td></tr>\n",
       "\t<tr><th scope=row>3214</th><td>78010   </td><td>3214    </td><td>28077.12</td><td>12053   </td><td>NA      </td><td>NA      </td></tr>\n",
       "\t<tr><th scope=row>3215</th><td>78020   </td><td>3215    </td><td>20178.25</td><td> 1991   </td><td>NA      </td><td>NA      </td></tr>\n",
       "\t<tr><th scope=row>3216</th><td>78030   </td><td>3216    </td><td>22985.71</td><td>14565   </td><td>NA      </td><td>NA      </td></tr>\n",
       "</tbody>\n",
       "</table>\n"
      ],
      "text/latex": [
       "\\begin{tabular}{r|llllll}\n",
       "  & fips & X.x & wage & employment & X.y & unemp\\\\\n",
       "\\hline\n",
       "\t86 &  2201    &   86     & 27511.05 &  1165    & NA       & NA      \\\\\n",
       "\t88 &  2232    &   88     & 28550.83 &  1068    & NA       & NA      \\\\\n",
       "\t91 &  2270    &   91     & 16724.99 &   878    & NA       & NA      \\\\\n",
       "\t92 &  2280    &   92     & 25470.78 &  1736    & NA       & NA      \\\\\n",
       "\t2412 & 46113    & 2412     & 22689.80 &  2244    & NA       & NA      \\\\\n",
       "\t2909 & 51515    & 2909     & 25314.70 &  3970    & NA       & NA      \\\\\n",
       "\t3214 & 78010    & 3214     & 28077.12 & 12053    & NA       & NA      \\\\\n",
       "\t3215 & 78020    & 3215     & 20178.25 &  1991    & NA       & NA      \\\\\n",
       "\t3216 & 78030    & 3216     & 22985.71 & 14565    & NA       & NA      \\\\\n",
       "\\end{tabular}\n"
      ],
      "text/markdown": [
       "\n",
       "| <!--/--> | fips | X.x | wage | employment | X.y | unemp |\n",
       "|---|---|---|---|---|---|---|\n",
       "| 86 |  2201    |   86     | 27511.05 |  1165    | NA       | NA       |\n",
       "| 88 |  2232    |   88     | 28550.83 |  1068    | NA       | NA       |\n",
       "| 91 |  2270    |   91     | 16724.99 |   878    | NA       | NA       |\n",
       "| 92 |  2280    |   92     | 25470.78 |  1736    | NA       | NA       |\n",
       "| 2412 | 46113    | 2412     | 22689.80 |  2244    | NA       | NA       |\n",
       "| 2909 | 51515    | 2909     | 25314.70 |  3970    | NA       | NA       |\n",
       "| 3214 | 78010    | 3214     | 28077.12 | 12053    | NA       | NA       |\n",
       "| 3215 | 78020    | 3215     | 20178.25 |  1991    | NA       | NA       |\n",
       "| 3216 | 78030    | 3216     | 22985.71 | 14565    | NA       | NA       |\n",
       "\n"
      ],
      "text/plain": [
       "     fips  X.x  wage     employment X.y unemp\n",
       "86    2201   86 27511.05  1165      NA  NA   \n",
       "88    2232   88 28550.83  1068      NA  NA   \n",
       "91    2270   91 16724.99   878      NA  NA   \n",
       "92    2280   92 25470.78  1736      NA  NA   \n",
       "2412 46113 2412 22689.80  2244      NA  NA   \n",
       "2909 51515 2909 25314.70  3970      NA  NA   \n",
       "3214 78010 3214 28077.12 12053      NA  NA   \n",
       "3215 78020 3215 20178.25  1991      NA  NA   \n",
       "3216 78030 3216 22985.71 14565      NA  NA   "
      ]
     },
     "metadata": {},
     "output_type": "display_data"
    }
   ],
   "source": [
    "summary(merged_data)\n",
    "merged_data[is.na(merged_data$unemp),]"
   ]
  },
  {
   "cell_type": "markdown",
   "metadata": {},
   "source": [
    "### On the rest of the data, let's do an OLS regression of wage on employment count and unemployment rate (counties with missing `unemp` will be ignored by the `lm` command):"
   ]
  },
  {
   "cell_type": "code",
   "execution_count": 62,
   "metadata": {},
   "outputs": [
    {
     "data": {
      "text/plain": [
       "\n",
       "Call:\n",
       "lm(formula = wage ~ employment + unemp, data = merged_data)\n",
       "\n",
       "Residuals:\n",
       "   Min     1Q Median     3Q    Max \n",
       "-64582  -3441   -673   2457  48149 \n",
       "\n",
       "Coefficients:\n",
       "              Estimate Std. Error t value Pr(>|t|)    \n",
       "(Intercept)  2.565e+04  2.575e+02  99.590   <2e-16 ***\n",
       "employment   2.261e-02  7.934e-04  28.501   <2e-16 ***\n",
       "unemp       -3.997e+02  4.294e+01  -9.308   <2e-16 ***\n",
       "---\n",
       "Signif. codes:  0 '***' 0.001 '**' 0.01 '*' 0.05 '.' 0.1 ' ' 1\n",
       "\n",
       "Residual standard error: 5631 on 3204 degrees of freedom\n",
       "  (9 observations deleted due to missingness)\n",
       "Multiple R-squared:  0.2267,\tAdjusted R-squared:  0.2262 \n",
       "F-statistic: 469.6 on 2 and 3204 DF,  p-value: < 2.2e-16\n"
      ]
     },
     "metadata": {},
     "output_type": "display_data"
    }
   ],
   "source": [
    "model2<-lm(wage~employment+unemp,data=merged_data)\n",
    "summary(model2)"
   ]
  },
  {
   "cell_type": "code",
   "execution_count": 22,
   "metadata": {},
   "outputs": [
    {
     "data": {
      "text/html": [
       "<dl class=dl-horizontal>\n",
       "\t<dt>(Intercept)</dt>\n",
       "\t\t<dd>359.606291243014</dd>\n",
       "\t<dt>employment</dt>\n",
       "\t\t<dd>0.00495834913777904</dd>\n",
       "\t<dt>unemp</dt>\n",
       "\t\t<dd>50.0528772565186</dd>\n",
       "</dl>\n"
      ],
      "text/latex": [
       "\\begin{description*}\n",
       "\\item[(Intercept)] 359.606291243014\n",
       "\\item[employment] 0.00495834913777904\n",
       "\\item[unemp] 50.0528772565186\n",
       "\\end{description*}\n"
      ],
      "text/markdown": [
       "(Intercept)\n",
       ":   359.606291243014employment\n",
       ":   0.00495834913777904unemp\n",
       ":   50.0528772565186\n",
       "\n"
      ],
      "text/plain": [
       " (Intercept)   employment        unemp \n",
       "3.596063e+02 4.958349e-03 5.005288e+01 "
      ]
     },
     "metadata": {},
     "output_type": "display_data"
    }
   ],
   "source": [
    "# Again, if we are interested in statistical inference on our coefficients, we should generally use\n",
    "# standard errors that are valid under heteroskedasticity:\n",
    "cov <- vcovHC(model2, type = \"HC\")\n",
    "model2.robustses <- sqrt(diag(cov))\n",
    "model2.robustses"
   ]
  },
  {
   "cell_type": "markdown",
   "metadata": {},
   "source": [
    "## Aside: deleting, renaming, ordering variables in a dataframe <a name=\"datamanip\"></a>\n",
    "\n",
    "### First, let's drop these meaningless variables X.x and X.y. These come from the fact that there was a variable named \"X\" in both datasets before the merge, which simply counted the row number."
   ]
  },
  {
   "cell_type": "code",
   "execution_count": 65,
   "metadata": {},
   "outputs": [
    {
     "data": {
      "text/html": [
       "<table>\n",
       "<thead><tr><th scope=col>fips</th><th scope=col>X.x</th><th scope=col>wage</th><th scope=col>employment</th><th scope=col>X.y</th><th scope=col>unemp</th></tr></thead>\n",
       "<tbody>\n",
       "\t<tr><td>1001    </td><td>1       </td><td>24803.96</td><td> 8844   </td><td>1       </td><td>5.3     </td></tr>\n",
       "\t<tr><td>1003    </td><td>2       </td><td>21926.45</td><td>40999   </td><td>2       </td><td>5.4     </td></tr>\n",
       "\t<tr><td>1005    </td><td>3       </td><td>22849.07</td><td> 9890   </td><td>3       </td><td>8.6     </td></tr>\n",
       "\t<tr><td>1007    </td><td>4       </td><td>20039.41</td><td> 2686   </td><td>4       </td><td>6.6     </td></tr>\n",
       "\t<tr><td>1009    </td><td>5       </td><td>21934.78</td><td> 7372   </td><td>5       </td><td>5.5     </td></tr>\n",
       "\t<tr><td>1011    </td><td>6       </td><td>20437.67</td><td> 2774   </td><td>6       </td><td>7.2     </td></tr>\n",
       "</tbody>\n",
       "</table>\n"
      ],
      "text/latex": [
       "\\begin{tabular}{r|llllll}\n",
       " fips & X.x & wage & employment & X.y & unemp\\\\\n",
       "\\hline\n",
       "\t 1001     & 1        & 24803.96 &  8844    & 1        & 5.3     \\\\\n",
       "\t 1003     & 2        & 21926.45 & 40999    & 2        & 5.4     \\\\\n",
       "\t 1005     & 3        & 22849.07 &  9890    & 3        & 8.6     \\\\\n",
       "\t 1007     & 4        & 20039.41 &  2686    & 4        & 6.6     \\\\\n",
       "\t 1009     & 5        & 21934.78 &  7372    & 5        & 5.5     \\\\\n",
       "\t 1011     & 6        & 20437.67 &  2774    & 6        & 7.2     \\\\\n",
       "\\end{tabular}\n"
      ],
      "text/markdown": [
       "\n",
       "| fips | X.x | wage | employment | X.y | unemp |\n",
       "|---|---|---|---|---|---|\n",
       "| 1001     | 1        | 24803.96 |  8844    | 1        | 5.3      |\n",
       "| 1003     | 2        | 21926.45 | 40999    | 2        | 5.4      |\n",
       "| 1005     | 3        | 22849.07 |  9890    | 3        | 8.6      |\n",
       "| 1007     | 4        | 20039.41 |  2686    | 4        | 6.6      |\n",
       "| 1009     | 5        | 21934.78 |  7372    | 5        | 5.5      |\n",
       "| 1011     | 6        | 20437.67 |  2774    | 6        | 7.2      |\n",
       "\n"
      ],
      "text/plain": [
       "  fips X.x wage     employment X.y unemp\n",
       "1 1001 1   24803.96  8844      1   5.3  \n",
       "2 1003 2   21926.45 40999      2   5.4  \n",
       "3 1005 3   22849.07  9890      3   8.6  \n",
       "4 1007 4   20039.41  2686      4   6.6  \n",
       "5 1009 5   21934.78  7372      5   5.5  \n",
       "6 1011 6   20437.67  2774      6   7.2  "
      ]
     },
     "metadata": {},
     "output_type": "display_data"
    }
   ],
   "source": [
    "head(merged_data)"
   ]
  },
  {
   "cell_type": "code",
   "execution_count": 68,
   "metadata": {},
   "outputs": [
    {
     "data": {
      "text/html": [
       "<table>\n",
       "<thead><tr><th scope=col>fips</th><th scope=col>wage</th><th scope=col>employment</th><th scope=col>unemp</th></tr></thead>\n",
       "<tbody>\n",
       "\t<tr><td>1001    </td><td>24803.96</td><td> 8844   </td><td>5.3     </td></tr>\n",
       "\t<tr><td>1003    </td><td>21926.45</td><td>40999   </td><td>5.4     </td></tr>\n",
       "\t<tr><td>1005    </td><td>22849.07</td><td> 9890   </td><td>8.6     </td></tr>\n",
       "\t<tr><td>1007    </td><td>20039.41</td><td> 2686   </td><td>6.6     </td></tr>\n",
       "\t<tr><td>1009    </td><td>21934.78</td><td> 7372   </td><td>5.5     </td></tr>\n",
       "\t<tr><td>1011    </td><td>20437.67</td><td> 2774   </td><td>7.2     </td></tr>\n",
       "</tbody>\n",
       "</table>\n"
      ],
      "text/latex": [
       "\\begin{tabular}{r|llll}\n",
       " fips & wage & employment & unemp\\\\\n",
       "\\hline\n",
       "\t 1001     & 24803.96 &  8844    & 5.3     \\\\\n",
       "\t 1003     & 21926.45 & 40999    & 5.4     \\\\\n",
       "\t 1005     & 22849.07 &  9890    & 8.6     \\\\\n",
       "\t 1007     & 20039.41 &  2686    & 6.6     \\\\\n",
       "\t 1009     & 21934.78 &  7372    & 5.5     \\\\\n",
       "\t 1011     & 20437.67 &  2774    & 7.2     \\\\\n",
       "\\end{tabular}\n"
      ],
      "text/markdown": [
       "\n",
       "| fips | wage | employment | unemp |\n",
       "|---|---|---|---|\n",
       "| 1001     | 24803.96 |  8844    | 5.3      |\n",
       "| 1003     | 21926.45 | 40999    | 5.4      |\n",
       "| 1005     | 22849.07 |  9890    | 8.6      |\n",
       "| 1007     | 20039.41 |  2686    | 6.6      |\n",
       "| 1009     | 21934.78 |  7372    | 5.5      |\n",
       "| 1011     | 20437.67 |  2774    | 7.2      |\n",
       "\n"
      ],
      "text/plain": [
       "  fips wage     employment unemp\n",
       "1 1001 24803.96  8844      5.3  \n",
       "2 1003 21926.45 40999      5.4  \n",
       "3 1005 22849.07  9890      8.6  \n",
       "4 1007 20039.41  2686      6.6  \n",
       "5 1009 21934.78  7372      5.5  \n",
       "6 1011 20437.67  2774      7.2  "
      ]
     },
     "metadata": {},
     "output_type": "display_data"
    }
   ],
   "source": [
    "somevars <- names(merged_data) %in% c(\"X.x\", \"X.y\")\n",
    "cleaned_data <- merged_data[!somevars]\n",
    "head(cleaned_data)"
   ]
  },
  {
   "cell_type": "markdown",
   "metadata": {},
   "source": [
    "### Some other data frame manipulation tasks that may be useful:"
   ]
  },
  {
   "cell_type": "code",
   "execution_count": 91,
   "metadata": {},
   "outputs": [
    {
     "data": {
      "text/html": [
       "<table>\n",
       "<thead><tr><th></th><th scope=col>employment</th><th scope=col>employment_quartile</th><th scope=col>county</th><th scope=col>wage</th><th scope=col>unemp</th></tr></thead>\n",
       "<tbody>\n",
       "\t<tr><th scope=row>2028</th><td>19           </td><td>[19,2.26e+03]</td><td>38087        </td><td>13620.74     </td><td>2.5          </td></tr>\n",
       "\t<tr><th scope=row>1629</th><td>32           </td><td>[19,2.26e+03]</td><td>30069        </td><td>16411.38     </td><td>4.8          </td></tr>\n",
       "\t<tr><th scope=row>1731</th><td>50           </td><td>[19,2.26e+03]</td><td>31165        </td><td>15092.88     </td><td>2.8          </td></tr>\n",
       "\t<tr><th scope=row>1613</th><td>61           </td><td>[19,2.26e+03]</td><td>30037        </td><td>15563.97     </td><td>4.4          </td></tr>\n",
       "\t<tr><th scope=row>1653</th><td>61           </td><td>[19,2.26e+03]</td><td>31005        </td><td>13003.02     </td><td>6.2          </td></tr>\n",
       "\t<tr><th scope=row>1654</th><td>61           </td><td>[19,2.26e+03]</td><td>31007        </td><td>19724.15     </td><td>3.8          </td></tr>\n",
       "</tbody>\n",
       "</table>\n"
      ],
      "text/latex": [
       "\\begin{tabular}{r|lllll}\n",
       "  & employment & employment\\_quartile & county & wage & unemp\\\\\n",
       "\\hline\n",
       "\t2028 & 19                & {[}19,2.26e+03{]} & 38087             & 13620.74          & 2.5              \\\\\n",
       "\t1629 & 32                & {[}19,2.26e+03{]} & 30069             & 16411.38          & 4.8              \\\\\n",
       "\t1731 & 50                & {[}19,2.26e+03{]} & 31165             & 15092.88          & 2.8              \\\\\n",
       "\t1613 & 61                & {[}19,2.26e+03{]} & 30037             & 15563.97          & 4.4              \\\\\n",
       "\t1653 & 61                & {[}19,2.26e+03{]} & 31005             & 13003.02          & 6.2              \\\\\n",
       "\t1654 & 61                & {[}19,2.26e+03{]} & 31007             & 19724.15          & 3.8              \\\\\n",
       "\\end{tabular}\n"
      ],
      "text/markdown": [
       "\n",
       "| <!--/--> | employment | employment_quartile | county | wage | unemp |\n",
       "|---|---|---|---|---|---|\n",
       "| 2028 | 19            | [19,2.26e+03] | 38087         | 13620.74      | 2.5           |\n",
       "| 1629 | 32            | [19,2.26e+03] | 30069         | 16411.38      | 4.8           |\n",
       "| 1731 | 50            | [19,2.26e+03] | 31165         | 15092.88      | 2.8           |\n",
       "| 1613 | 61            | [19,2.26e+03] | 30037         | 15563.97      | 4.4           |\n",
       "| 1653 | 61            | [19,2.26e+03] | 31005         | 13003.02      | 6.2           |\n",
       "| 1654 | 61            | [19,2.26e+03] | 31007         | 19724.15      | 3.8           |\n",
       "\n"
      ],
      "text/plain": [
       "     employment employment_quartile county wage     unemp\n",
       "2028 19         [19,2.26e+03]       38087  13620.74 2.5  \n",
       "1629 32         [19,2.26e+03]       30069  16411.38 4.8  \n",
       "1731 50         [19,2.26e+03]       31165  15092.88 2.8  \n",
       "1613 61         [19,2.26e+03]       30037  15563.97 4.4  \n",
       "1653 61         [19,2.26e+03]       31005  13003.02 6.2  \n",
       "1654 61         [19,2.26e+03]       31007  19724.15 3.8  "
      ]
     },
     "metadata": {},
     "output_type": "display_data"
    }
   ],
   "source": [
    "#Create a new variable that groups employment into 4 quartiles\n",
    "qnt <- quantile(cleaned_data$employment)\n",
    "cleaned_data$employment_quartile<-cut(cleaned_data$employment,unique(qnt),include.lowest=TRUE)\n",
    "\n",
    "#Sort the data frame by employment\n",
    "cleaned_data <- cleaned_data[order(cleaned_data$employment),]\n",
    "\n",
    "#Re-order first few columns in data frame.\n",
    "#In this exmaple, make \"employment\" and \"employment_quartile\" first and retain ordering of the rest\n",
    "somecols <- c(\"employment\", \"employment_quartile\");\n",
    "cols <- c(somecols, names(cleaned_data)[-which(names(cleaned_data) %in% somecols)]);\n",
    "cleaned_data <- cleaned_data[cols]\n",
    "\n",
    "#rename the \"fips\" variable to \"county\"\n",
    "colnames(cleaned_data)[which(colnames(cleaned_data) == 'fips')[[1]]] <- \"county\"\n",
    "\n",
    "head(cleaned_data)"
   ]
  },
  {
   "cell_type": "markdown",
   "metadata": {},
   "source": [
    "### If you have experience with Stata, you'll notice that doing some of these things was more tedious than in Stata.\n",
    "\n",
    "### There are some tools that make data manipulation easier in R. One is the `dplyr` package, another is `data.table`\n",
    "\n",
    "### For example, with `data.table`, we can quickly extract the average employment across counties within each quartile of employment"
   ]
  },
  {
   "cell_type": "code",
   "execution_count": 95,
   "metadata": {},
   "outputs": [
    {
     "data": {
      "text/html": [
       "<table>\n",
       "<thead><tr><th scope=col>employment_quartile</th><th scope=col>V1</th></tr></thead>\n",
       "<tbody>\n",
       "\t<tr><td>[19,2.26e+03]      </td><td>  1159.604         </td></tr>\n",
       "\t<tr><td>(2.26e+03,6.31e+03]</td><td>  4009.684         </td></tr>\n",
       "\t<tr><td>(6.31e+03,1.82e+04]</td><td> 10953.877         </td></tr>\n",
       "\t<tr><td>(1.82e+04,3.55e+06]</td><td>118451.797         </td></tr>\n",
       "</tbody>\n",
       "</table>\n"
      ],
      "text/latex": [
       "\\begin{tabular}{r|ll}\n",
       " employment\\_quartile & V1\\\\\n",
       "\\hline\n",
       "\t {[}19,2.26e+03{]}       &   1159.604             \\\\\n",
       "\t (2.26e+03,6.31e+03{]} &   4009.684           \\\\\n",
       "\t (6.31e+03,1.82e+04{]} &  10953.877           \\\\\n",
       "\t (1.82e+04,3.55e+06{]} & 118451.797           \\\\\n",
       "\\end{tabular}\n"
      ],
      "text/markdown": [
       "\n",
       "| employment_quartile | V1 |\n",
       "|---|---|\n",
       "| [19,2.26e+03]       |   1159.604          |\n",
       "| (2.26e+03,6.31e+03] |   4009.684          |\n",
       "| (6.31e+03,1.82e+04] |  10953.877          |\n",
       "| (1.82e+04,3.55e+06] | 118451.797          |\n",
       "\n"
      ],
      "text/plain": [
       "  employment_quartile V1        \n",
       "1 [19,2.26e+03]         1159.604\n",
       "2 (2.26e+03,6.31e+03]   4009.684\n",
       "3 (6.31e+03,1.82e+04]  10953.877\n",
       "4 (1.82e+04,3.55e+06] 118451.797"
      ]
     },
     "metadata": {},
     "output_type": "display_data"
    }
   ],
   "source": [
    "library(data.table)\n",
    "dt = data.table(cleaned_data)\n",
    "dt <- dt[, .(mean(employment)), keyby = .(employment_quartile)]\n",
    "dt"
   ]
  },
  {
   "cell_type": "markdown",
   "metadata": {},
   "source": [
    "### Suppose instead we wanted the average of the variables `employment` and `wage` across all counties. We could do this with the lapply funciton, which would allow us to loop through any set of variable names and ask for its mean:"
   ]
  },
  {
   "cell_type": "code",
   "execution_count": 97,
   "metadata": {},
   "outputs": [
    {
     "name": "stdout",
     "output_type": "stream",
     "text": [
      "[1] \"Mean of variable employment: 33643.7406716418\"\n",
      "[1] \"Mean of variable wage: 24229.9502373469\"\n"
     ]
    }
   ],
   "source": [
    "nothing<-lapply(c(\"employment\", \"wage\"), function(thisvar){\n",
    "  print(paste0(\"Mean of variable \", thisvar, \": \",mean(cleaned_data[,thisvar])))\n",
    "})"
   ]
  },
  {
   "cell_type": "markdown",
   "metadata": {},
   "source": [
    "<a name=\"output\"></a>\n",
    "# Now that we have several models estimated, how can we neatly display all the output?\n",
    "***\n",
    "## This can be done with the `stargazer` libary:"
   ]
  },
  {
   "cell_type": "code",
   "execution_count": 23,
   "metadata": {},
   "outputs": [
    {
     "name": "stdout",
     "output_type": "stream",
     "text": [
      "\n",
      "=================================================================================================\n",
      "                                                 Dependent variable:                             \n",
      "                    -----------------------------------------------------------------------------\n",
      "                                                        wage                                     \n",
      "                           not robust                  robust                    robust          \n",
      "                               (1)                       (2)                       (3)           \n",
      "-------------------------------------------------------------------------------------------------\n",
      "employment                  0.023***                  0.023***                  0.023***         \n",
      "                             (0.001)                   (0.005)                   (0.005)         \n",
      "                                                                                                 \n",
      "unemp                                                                          -399.665***       \n",
      "                                                                                (50.053)         \n",
      "                                                                                                 \n",
      "Constant                  23,452.380***             23,452.380***             25,647.870***      \n",
      "                            (104.080)                 (171.421)                 (359.606)        \n",
      "                                                                                                 \n",
      "-------------------------------------------------------------------------------------------------\n",
      "Observations                  3,216                     3,216                     3,207          \n",
      "R2                            0.206                     0.206                     0.227          \n",
      "Adjusted R2                   0.205                     0.205                     0.226          \n",
      "Residual Std. Error   5,700.850 (df = 3214)     5,700.850 (df = 3214)     5,630.677 (df = 3204)  \n",
      "F Statistic         831.685*** (df = 1; 3214) 831.685*** (df = 1; 3214) 469.627*** (df = 2; 3204)\n",
      "=================================================================================================\n",
      "Note:                                                                 *p<0.1; **p<0.05; ***p<0.01\n"
     ]
    }
   ],
   "source": [
    "#install.packages(\"stargazer\")\n",
    "library(\"stargazer\")\n",
    "stargazer(model1, model1, model2, se=list(NULL, model1.robustses, model2.robustses), column.labels=c(\"not robust\",\"robust\", \"robust\"), align=TRUE, type=\"text\")"
   ]
  },
  {
   "cell_type": "markdown",
   "metadata": {},
   "source": [
    "### We'll also save a LaTeX version of this table into a file, to use in the next lecture on LaTeX:"
   ]
  },
  {
   "cell_type": "code",
   "execution_count": 25,
   "metadata": {
    "scrolled": false
   },
   "outputs": [
    {
     "name": "stdout",
     "output_type": "stream",
     "text": [
      "\n",
      "% Table created by stargazer v.5.2.2 by Marek Hlavac, Harvard University. E-mail: hlavac at fas.harvard.edu\n",
      "% Date and time: Wed, Oct 30, 2019 - 11:15:58 AM\n",
      "% Requires LaTeX packages: dcolumn \n",
      "\\begin{tabular}{@{\\extracolsep{5pt}}lD{.}{.}{-3} D{.}{.}{-3} D{.}{.}{-3} } \n",
      "\\\\[-1.8ex]\\hline \n",
      "\\hline \\\\[-1.8ex] \n",
      " & \\multicolumn{3}{c}{\\textit{Dependent variable:}} \\\\ \n",
      "\\cline{2-4} \n",
      "\\\\[-1.8ex] & \\multicolumn{3}{c}{wage} \\\\ \n",
      " & \\multicolumn{1}{c}{not robust} & \\multicolumn{1}{c}{robust} & \\multicolumn{1}{c}{robust} \\\\ \n",
      "\\\\[-1.8ex] & \\multicolumn{1}{c}{(1)} & \\multicolumn{1}{c}{(2)} & \\multicolumn{1}{c}{(3)}\\\\ \n",
      "\\hline \\\\[-1.8ex] \n",
      " employment & 0.023^{***} & 0.023^{***} & 0.023^{***} \\\\ \n",
      "  & (0.001) & (0.005) & (0.005) \\\\ \n",
      "  & & & \\\\ \n",
      " unemp &  &  & -399.665^{***} \\\\ \n",
      "  &  &  & (50.053) \\\\ \n",
      "  & & & \\\\ \n",
      " Constant & 23,452.380^{***} & 23,452.380^{***} & 25,647.870^{***} \\\\ \n",
      "  & (104.080) & (171.421) & (359.606) \\\\ \n",
      "  & & & \\\\ \n",
      "\\hline \\\\[-1.8ex] \n",
      "Observations & \\multicolumn{1}{c}{3,216} & \\multicolumn{1}{c}{3,216} & \\multicolumn{1}{c}{3,207} \\\\ \n",
      "R$^{2}$ & \\multicolumn{1}{c}{0.206} & \\multicolumn{1}{c}{0.206} & \\multicolumn{1}{c}{0.227} \\\\ \n",
      "Adjusted R$^{2}$ & \\multicolumn{1}{c}{0.205} & \\multicolumn{1}{c}{0.205} & \\multicolumn{1}{c}{0.226} \\\\ \n",
      "Residual Std. Error & \\multicolumn{1}{c}{5,700.850 (df = 3214)} & \\multicolumn{1}{c}{5,700.850 (df = 3214)} & \\multicolumn{1}{c}{5,630.677 (df = 3204)} \\\\ \n",
      "F Statistic & \\multicolumn{1}{c}{831.685$^{***}$ (df = 1; 3214)} & \\multicolumn{1}{c}{831.685$^{***}$ (df = 1; 3214)} & \\multicolumn{1}{c}{469.627$^{***}$ (df = 2; 3204)} \\\\ \n",
      "\\hline \n",
      "\\hline \\\\[-1.8ex] \n",
      "\\textit{Note:}  & \\multicolumn{3}{r}{$^{*}$p$<$0.1; $^{**}$p$<$0.05; $^{***}$p$<$0.01} \\\\ \n",
      "\\end{tabular} \n"
     ]
    }
   ],
   "source": [
    "stargazer(model1, model1, model2, se=list(NULL, model1.robustses, model2.robustses), column.labels=c(\"not robust\",\"robust\", \"robust\"), align=TRUE, float=F, type=\"latex\", out=paste0(projectpath,\"/tables/table1.tex\"))"
   ]
  },
  {
   "cell_type": "markdown",
   "metadata": {},
   "source": [
    "<a name=\"project\"></a>\n",
    "<h1><span style=\"color:blue\">Project!</span></h1>\n",
    "\n",
    "## Suppose we want to add to this regression a \"fixed effect\" for each state. See if you can figure out how to do this.\n",
    "\n",
    "## Some hints:\n",
    "- the first two digits of a FIPS code are constant within a state\n",
    "- dummies for each value of a variable can be added to the regression by creating a \"factor variable\", e.g. `df$state.f <- factor(df$state)`\n",
    "\n",
    "\n",
    "<h1><span style=\"color:blue\">\"Extra credit\"!</span></h1>\n",
    "\n",
    "## If the first task was too easy, now try adding to the regression a dummy variable for the first letter of the county's name beginning with a \"W\". County names can be downloaded here: https://www2.census.gov/programs-surveys/popest/geographies/2017/all-geocodes-v2017.xlsx"
   ]
  }
 ],
 "metadata": {
  "kernelspec": {
   "display_name": "R",
   "language": "R",
   "name": "ir"
  },
  "language_info": {
   "codemirror_mode": "r",
   "file_extension": ".r",
   "mimetype": "text/x-r-source",
   "name": "R",
   "pygments_lexer": "r",
   "version": "3.6.1"
  }
 },
 "nbformat": 4,
 "nbformat_minor": 2
}
